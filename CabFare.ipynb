{
 "cells": [
  {
   "cell_type": "code",
   "execution_count": 1,
   "metadata": {},
   "outputs": [
    {
     "name": "stderr",
     "output_type": "stream",
     "text": [
      "/home/zozo/anaconda3/lib/python3.7/site-packages/statsmodels/compat/pandas.py:49: FutureWarning: The Panel class is removed from pandas. Accessing it from the top-level namespace will also be removed in the next version\n",
      "  data_klasses = (pandas.Series, pandas.DataFrame, pandas.Panel)\n"
     ]
    }
   ],
   "source": [
    "#importing Libraries\n",
    "import os\n",
    "import pandas as pd\n",
    "import numpy as np\n",
    "import matplotlib.pyplot as plt\n",
    "import seaborn as sns\n",
    "from ggplot import *\n",
    "from sklearn.model_selection import train_test_split\n",
    "import statsmodels.api as sm\n",
    "from sklearn.tree import DecisionTreeRegressor\n",
    "from sklearn.ensemble import RandomForestRegressor\n",
    "from sklearn.metrics import mean_squared_error\n",
    "from sklearn.tree import export_graphviz"
   ]
  },
  {
   "cell_type": "code",
   "execution_count": 2,
   "metadata": {},
   "outputs": [],
   "source": [
    "#set path\n",
    "os.chdir(\"/home/zozo/Documents/edwisor/Project/Cab Fare/\")"
   ]
  },
  {
   "cell_type": "code",
   "execution_count": 3,
   "metadata": {},
   "outputs": [
    {
     "data": {
      "text/plain": [
       "'/home/zozo/Documents/edwisor/Project/Cab Fare'"
      ]
     },
     "execution_count": 3,
     "metadata": {},
     "output_type": "execute_result"
    }
   ],
   "source": [
    "#check path\n",
    "os.getcwd()"
   ]
  },
  {
   "cell_type": "code",
   "execution_count": 4,
   "metadata": {},
   "outputs": [
    {
     "data": {
      "text/plain": [
       "(16067, 7)"
      ]
     },
     "execution_count": 4,
     "metadata": {},
     "output_type": "execute_result"
    }
   ],
   "source": [
    "#Load Train and Test data\n",
    "train=pd.read_csv(\"train_cab.csv\")\n",
    "test=pd.read_csv(\"test.csv\")\n",
    "train.shape"
   ]
  },
  {
   "cell_type": "code",
   "execution_count": 5,
   "metadata": {},
   "outputs": [
    {
     "data": {
      "text/plain": [
       "(9914, 6)"
      ]
     },
     "execution_count": 5,
     "metadata": {},
     "output_type": "execute_result"
    }
   ],
   "source": [
    "test.shape"
   ]
  },
  {
   "cell_type": "code",
   "execution_count": 6,
   "metadata": {},
   "outputs": [
    {
     "data": {
      "text/html": [
       "<div>\n",
       "<style scoped>\n",
       "    .dataframe tbody tr th:only-of-type {\n",
       "        vertical-align: middle;\n",
       "    }\n",
       "\n",
       "    .dataframe tbody tr th {\n",
       "        vertical-align: top;\n",
       "    }\n",
       "\n",
       "    .dataframe thead th {\n",
       "        text-align: right;\n",
       "    }\n",
       "</style>\n",
       "<table border=\"1\" class=\"dataframe\">\n",
       "  <thead>\n",
       "    <tr style=\"text-align: right;\">\n",
       "      <th></th>\n",
       "      <th>fare_amount</th>\n",
       "      <th>pickup_datetime</th>\n",
       "      <th>pickup_longitude</th>\n",
       "      <th>pickup_latitude</th>\n",
       "      <th>dropoff_longitude</th>\n",
       "      <th>dropoff_latitude</th>\n",
       "      <th>passenger_count</th>\n",
       "    </tr>\n",
       "  </thead>\n",
       "  <tbody>\n",
       "    <tr>\n",
       "      <th>0</th>\n",
       "      <td>4.5</td>\n",
       "      <td>2009-06-15 17:26:21 UTC</td>\n",
       "      <td>-73.844311</td>\n",
       "      <td>40.721319</td>\n",
       "      <td>-73.841610</td>\n",
       "      <td>40.712278</td>\n",
       "      <td>1.0</td>\n",
       "    </tr>\n",
       "    <tr>\n",
       "      <th>1</th>\n",
       "      <td>16.9</td>\n",
       "      <td>2010-01-05 16:52:16 UTC</td>\n",
       "      <td>-74.016048</td>\n",
       "      <td>40.711303</td>\n",
       "      <td>-73.979268</td>\n",
       "      <td>40.782004</td>\n",
       "      <td>1.0</td>\n",
       "    </tr>\n",
       "    <tr>\n",
       "      <th>2</th>\n",
       "      <td>5.7</td>\n",
       "      <td>2011-08-18 00:35:00 UTC</td>\n",
       "      <td>-73.982738</td>\n",
       "      <td>40.761270</td>\n",
       "      <td>-73.991242</td>\n",
       "      <td>40.750562</td>\n",
       "      <td>2.0</td>\n",
       "    </tr>\n",
       "    <tr>\n",
       "      <th>3</th>\n",
       "      <td>7.7</td>\n",
       "      <td>2012-04-21 04:30:42 UTC</td>\n",
       "      <td>-73.987130</td>\n",
       "      <td>40.733143</td>\n",
       "      <td>-73.991567</td>\n",
       "      <td>40.758092</td>\n",
       "      <td>1.0</td>\n",
       "    </tr>\n",
       "    <tr>\n",
       "      <th>4</th>\n",
       "      <td>5.3</td>\n",
       "      <td>2010-03-09 07:51:00 UTC</td>\n",
       "      <td>-73.968095</td>\n",
       "      <td>40.768008</td>\n",
       "      <td>-73.956655</td>\n",
       "      <td>40.783762</td>\n",
       "      <td>1.0</td>\n",
       "    </tr>\n",
       "  </tbody>\n",
       "</table>\n",
       "</div>"
      ],
      "text/plain": [
       "  fare_amount          pickup_datetime  pickup_longitude  pickup_latitude  \\\n",
       "0         4.5  2009-06-15 17:26:21 UTC        -73.844311        40.721319   \n",
       "1        16.9  2010-01-05 16:52:16 UTC        -74.016048        40.711303   \n",
       "2         5.7  2011-08-18 00:35:00 UTC        -73.982738        40.761270   \n",
       "3         7.7  2012-04-21 04:30:42 UTC        -73.987130        40.733143   \n",
       "4         5.3  2010-03-09 07:51:00 UTC        -73.968095        40.768008   \n",
       "\n",
       "   dropoff_longitude  dropoff_latitude  passenger_count  \n",
       "0         -73.841610         40.712278              1.0  \n",
       "1         -73.979268         40.782004              1.0  \n",
       "2         -73.991242         40.750562              2.0  \n",
       "3         -73.991567         40.758092              1.0  \n",
       "4         -73.956655         40.783762              1.0  "
      ]
     },
     "execution_count": 6,
     "metadata": {},
     "output_type": "execute_result"
    }
   ],
   "source": [
    "train.head()"
   ]
  },
  {
   "cell_type": "code",
   "execution_count": 7,
   "metadata": {
    "scrolled": true
   },
   "outputs": [
    {
     "data": {
      "text/plain": [
       "fare_amount           object\n",
       "pickup_datetime       object\n",
       "pickup_longitude     float64\n",
       "pickup_latitude      float64\n",
       "dropoff_longitude    float64\n",
       "dropoff_latitude     float64\n",
       "passenger_count      float64\n",
       "dtype: object"
      ]
     },
     "execution_count": 7,
     "metadata": {},
     "output_type": "execute_result"
    }
   ],
   "source": [
    "#check datatypes of train\n",
    "train.dtypes"
   ]
  },
  {
   "cell_type": "code",
   "execution_count": 7,
   "metadata": {},
   "outputs": [
    {
     "name": "stderr",
     "output_type": "stream",
     "text": [
      "/home/zozo/.local/lib/python3.7/site-packages/pandas/core/indexing.py:202: SettingWithCopyWarning: \n",
      "A value is trying to be set on a copy of a slice from a DataFrame\n",
      "\n",
      "See the caveats in the documentation: http://pandas.pydata.org/pandas-docs/stable/user_guide/indexing.html#returning-a-view-versus-a-copy\n",
      "  self._setitem_with_indexer(indexer, value)\n"
     ]
    }
   ],
   "source": [
    "#convert datatypes\n",
    "train['fare_amount'].loc[1123]=430\n",
    "train['fare_amount']=pd.to_numeric(train['fare_amount'])\n",
    "train['passenger_count']=train['passenger_count'].astype(object)\n"
   ]
  },
  {
   "cell_type": "markdown",
   "metadata": {},
   "source": [
    "### Missing Value Analysis"
   ]
  },
  {
   "cell_type": "code",
   "execution_count": 8,
   "metadata": {},
   "outputs": [],
   "source": [
    "#Create dataframe with missing percentage\n",
    "missing_val = pd.DataFrame(train.isnull().sum())\n",
    "\n",
    "#Reset index\n",
    "missing_val = missing_val.reset_index()\n",
    "\n",
    "#Rename variable\n",
    "missing_val = missing_val.rename(columns = {'index': 'Variables', 0: 'Missing_percentage'})\n",
    "\n",
    "#Calculate percentage\n",
    "missing_val['Missing_percentage'] = (missing_val['Missing_percentage']/len(train))*100\n",
    "\n",
    "#descending order\n",
    "missing_val = missing_val.sort_values('Missing_percentage', ascending = False).reset_index(drop = True)"
   ]
  },
  {
   "cell_type": "code",
   "execution_count": 48,
   "metadata": {},
   "outputs": [
    {
     "data": {
      "text/html": [
       "<div>\n",
       "<style scoped>\n",
       "    .dataframe tbody tr th:only-of-type {\n",
       "        vertical-align: middle;\n",
       "    }\n",
       "\n",
       "    .dataframe tbody tr th {\n",
       "        vertical-align: top;\n",
       "    }\n",
       "\n",
       "    .dataframe thead th {\n",
       "        text-align: right;\n",
       "    }\n",
       "</style>\n",
       "<table border=\"1\" class=\"dataframe\">\n",
       "  <thead>\n",
       "    <tr style=\"text-align: right;\">\n",
       "      <th></th>\n",
       "      <th>Variables</th>\n",
       "      <th>Missing_percentage</th>\n",
       "    </tr>\n",
       "  </thead>\n",
       "  <tbody>\n",
       "    <tr>\n",
       "      <th>0</th>\n",
       "      <td>passenger_count</td>\n",
       "      <td>0.342317</td>\n",
       "    </tr>\n",
       "    <tr>\n",
       "      <th>1</th>\n",
       "      <td>fare_amount</td>\n",
       "      <td>0.149374</td>\n",
       "    </tr>\n",
       "    <tr>\n",
       "      <th>2</th>\n",
       "      <td>pickup_datetime</td>\n",
       "      <td>0.000000</td>\n",
       "    </tr>\n",
       "    <tr>\n",
       "      <th>3</th>\n",
       "      <td>pickup_longitude</td>\n",
       "      <td>0.000000</td>\n",
       "    </tr>\n",
       "    <tr>\n",
       "      <th>4</th>\n",
       "      <td>pickup_latitude</td>\n",
       "      <td>0.000000</td>\n",
       "    </tr>\n",
       "    <tr>\n",
       "      <th>5</th>\n",
       "      <td>dropoff_longitude</td>\n",
       "      <td>0.000000</td>\n",
       "    </tr>\n",
       "    <tr>\n",
       "      <th>6</th>\n",
       "      <td>dropoff_latitude</td>\n",
       "      <td>0.000000</td>\n",
       "    </tr>\n",
       "  </tbody>\n",
       "</table>\n",
       "</div>"
      ],
      "text/plain": [
       "           Variables  Missing_percentage\n",
       "0    passenger_count            0.342317\n",
       "1        fare_amount            0.149374\n",
       "2    pickup_datetime            0.000000\n",
       "3   pickup_longitude            0.000000\n",
       "4    pickup_latitude            0.000000\n",
       "5  dropoff_longitude            0.000000\n",
       "6   dropoff_latitude            0.000000"
      ]
     },
     "execution_count": 48,
     "metadata": {},
     "output_type": "execute_result"
    }
   ],
   "source": [
    "missing_val"
   ]
  },
  {
   "cell_type": "code",
   "execution_count": 11,
   "metadata": {},
   "outputs": [],
   "source": [
    "#As Passnenger_count is a categorical variable we will use mode to impute it"
   ]
  },
  {
   "cell_type": "code",
   "execution_count": 11,
   "metadata": {},
   "outputs": [
    {
     "data": {
      "text/plain": [
       "1.00       11259\n",
       "2.00        2322\n",
       "5.00        1045\n",
       "3.00         676\n",
       "4.00         329\n",
       "6.00         302\n",
       "0.00          57\n",
       "43.00          2\n",
       "53.00          2\n",
       "87.00          1\n",
       "35.00          1\n",
       "55.00          1\n",
       "58.00          1\n",
       "0.12           1\n",
       "5345.00        1\n",
       "345.00         1\n",
       "354.00         1\n",
       "456.00         1\n",
       "1.30           1\n",
       "531.20         1\n",
       "535.00         1\n",
       "536.00         1\n",
       "537.00         1\n",
       "554.00         1\n",
       "557.00         1\n",
       "5334.00        1\n",
       "236.00         1\n",
       "Name: passenger_count, dtype: int64"
      ]
     },
     "execution_count": 11,
     "metadata": {},
     "output_type": "execute_result"
    }
   ],
   "source": [
    "train['passenger_count'].value_counts()"
   ]
  },
  {
   "cell_type": "code",
   "execution_count": 9,
   "metadata": {},
   "outputs": [],
   "source": [
    "#mode- as 1 has occurred for most no. of times we will replace na with 1 i.e Mode\n",
    "\n",
    "train['passenger_count'] = train['passenger_count'].fillna(1)\n"
   ]
  },
  {
   "cell_type": "code",
   "execution_count": 13,
   "metadata": {},
   "outputs": [],
   "source": [
    "#Now to impute missing value of fare_amount we will use Mean or Median"
   ]
  },
  {
   "cell_type": "code",
   "execution_count": 10,
   "metadata": {},
   "outputs": [
    {
     "data": {
      "text/plain": [
       "17.7"
      ]
     },
     "execution_count": 10,
     "metadata": {},
     "output_type": "execute_result"
    }
   ],
   "source": [
    "train['fare_amount'].loc[2000]"
   ]
  },
  {
   "cell_type": "code",
   "execution_count": 16,
   "metadata": {},
   "outputs": [],
   "source": [
    "#actual value=17.7\n",
    "#mean=15.0407\n",
    "#median=8.5\n",
    "#As Mean is giving better result we will use mean to replace na in fare_amount variable"
   ]
  },
  {
   "cell_type": "code",
   "execution_count": 11,
   "metadata": {},
   "outputs": [],
   "source": [
    "#Mean\n",
    "train['fare_amount'] = train['fare_amount'].fillna(train['fare_amount'].mean())\n"
   ]
  },
  {
   "cell_type": "code",
   "execution_count": 18,
   "metadata": {},
   "outputs": [],
   "source": [
    "#Median\n",
    "#train['fare_amount'] = train['fare_amount'].fillna(train['fare_amount'].median())\n"
   ]
  },
  {
   "cell_type": "code",
   "execution_count": 16,
   "metadata": {},
   "outputs": [
    {
     "data": {
      "text/html": [
       "<div>\n",
       "<style scoped>\n",
       "    .dataframe tbody tr th:only-of-type {\n",
       "        vertical-align: middle;\n",
       "    }\n",
       "\n",
       "    .dataframe tbody tr th {\n",
       "        vertical-align: top;\n",
       "    }\n",
       "\n",
       "    .dataframe thead th {\n",
       "        text-align: right;\n",
       "    }\n",
       "</style>\n",
       "<table border=\"1\" class=\"dataframe\">\n",
       "  <thead>\n",
       "    <tr style=\"text-align: right;\">\n",
       "      <th></th>\n",
       "      <th>Variables</th>\n",
       "      <th>Missing_percentage</th>\n",
       "    </tr>\n",
       "  </thead>\n",
       "  <tbody>\n",
       "    <tr>\n",
       "      <th>0</th>\n",
       "      <td>fare_amount</td>\n",
       "      <td>0.0</td>\n",
       "    </tr>\n",
       "    <tr>\n",
       "      <th>1</th>\n",
       "      <td>pickup_datetime</td>\n",
       "      <td>0.0</td>\n",
       "    </tr>\n",
       "    <tr>\n",
       "      <th>2</th>\n",
       "      <td>pickup_longitude</td>\n",
       "      <td>0.0</td>\n",
       "    </tr>\n",
       "    <tr>\n",
       "      <th>3</th>\n",
       "      <td>pickup_latitude</td>\n",
       "      <td>0.0</td>\n",
       "    </tr>\n",
       "    <tr>\n",
       "      <th>4</th>\n",
       "      <td>dropoff_longitude</td>\n",
       "      <td>0.0</td>\n",
       "    </tr>\n",
       "    <tr>\n",
       "      <th>5</th>\n",
       "      <td>dropoff_latitude</td>\n",
       "      <td>0.0</td>\n",
       "    </tr>\n",
       "    <tr>\n",
       "      <th>6</th>\n",
       "      <td>passenger_count</td>\n",
       "      <td>0.0</td>\n",
       "    </tr>\n",
       "  </tbody>\n",
       "</table>\n",
       "</div>"
      ],
      "text/plain": [
       "           Variables  Missing_percentage\n",
       "0        fare_amount                 0.0\n",
       "1    pickup_datetime                 0.0\n",
       "2   pickup_longitude                 0.0\n",
       "3    pickup_latitude                 0.0\n",
       "4  dropoff_longitude                 0.0\n",
       "5   dropoff_latitude                 0.0\n",
       "6    passenger_count                 0.0"
      ]
     },
     "execution_count": 16,
     "metadata": {},
     "output_type": "execute_result"
    }
   ],
   "source": [
    "missing_val"
   ]
  },
  {
   "cell_type": "code",
   "execution_count": null,
   "metadata": {},
   "outputs": [],
   "source": []
  },
  {
   "cell_type": "markdown",
   "metadata": {},
   "source": [
    "### Now we will remove outlier location from train data using test dataset"
   ]
  },
  {
   "cell_type": "code",
   "execution_count": 17,
   "metadata": {},
   "outputs": [
    {
     "name": "stdout",
     "output_type": "stream",
     "text": [
      "Range of Pickup Latitude is (-74.006893, 401.083332)\n"
     ]
    }
   ],
   "source": [
    "#Pickup latitude range\n",
    "print(\"Range of Pickup Latitude is\", (min(train['pickup_latitude']),max(train['pickup_latitude'])))\n"
   ]
  },
  {
   "cell_type": "code",
   "execution_count": 18,
   "metadata": {},
   "outputs": [
    {
     "name": "stdout",
     "output_type": "stream",
     "text": [
      "Range of Dropoff Latitude (-74.006377, 41.366138)\n"
     ]
    }
   ],
   "source": [
    "#Dropoff latitude range\n",
    "print(\"Range of Dropoff Latitude\", (min(train['dropoff_latitude']),max(train['dropoff_latitude'])))\n"
   ]
  },
  {
   "cell_type": "code",
   "execution_count": 19,
   "metadata": {},
   "outputs": [],
   "source": [
    "# now lets see what are the boundaries in test dataset "
   ]
  },
  {
   "cell_type": "code",
   "execution_count": 20,
   "metadata": {},
   "outputs": [
    {
     "name": "stdout",
     "output_type": "stream",
     "text": [
      "Longitude Boundary in test\n"
     ]
    },
    {
     "data": {
      "text/plain": [
       "(-74.263242, -72.986532)"
      ]
     },
     "execution_count": 20,
     "metadata": {},
     "output_type": "execute_result"
    }
   ],
   "source": [
    "#longitude boundary\n",
    "print(\"Longitude Boundary in test\")\n",
    "min(test.pickup_longitude.min(), test.dropoff_longitude.min()),max(test.pickup_longitude.max(), test.dropoff_longitude.max())"
   ]
  },
  {
   "cell_type": "code",
   "execution_count": 21,
   "metadata": {},
   "outputs": [
    {
     "name": "stdout",
     "output_type": "stream",
     "text": [
      "Latitude Boundary in test\n"
     ]
    },
    {
     "data": {
      "text/plain": [
       "(40.573143, 41.709555)"
      ]
     },
     "execution_count": 21,
     "metadata": {},
     "output_type": "execute_result"
    }
   ],
   "source": [
    "#latitude boundary\n",
    "print(\"Latitude Boundary in test\")\n",
    "min(test.pickup_latitude.min(), test.pickup_latitude.min()),max(test.pickup_latitude.max(), test.pickup_latitude.max())"
   ]
  },
  {
   "cell_type": "code",
   "execution_count": 12,
   "metadata": {},
   "outputs": [],
   "source": [
    "#set boundaries\n",
    "boundary={'min_longitude':-74.263242,\n",
    "              'min_latitude':40.573143,\n",
    "              'max_longitude':-72.986532, \n",
    "              'max_latitude':41.709555}"
   ]
  },
  {
   "cell_type": "code",
   "execution_count": 13,
   "metadata": {},
   "outputs": [],
   "source": [
    "train.loc[~((train.pickup_longitude >= boundary['min_longitude'] ) & (train.pickup_longitude <= boundary['max_longitude']) &\n",
    "            (train.pickup_latitude >= boundary['min_latitude']) & (train.pickup_latitude <= boundary['max_latitude']) &\n",
    "            (train.dropoff_longitude >= boundary['min_longitude']) & (train.dropoff_longitude <= boundary['max_longitude']) &\n",
    "            (train.dropoff_latitude >=boundary['min_latitude']) & (train.dropoff_latitude <= boundary['max_latitude'])),'outlier']=1\n",
    "train.loc[((train.pickup_longitude >= boundary['min_longitude'] ) & (train.pickup_longitude <= boundary['max_longitude']) &\n",
    "            (train.pickup_latitude >= boundary['min_latitude']) & (train.pickup_latitude <= boundary['max_latitude']) &\n",
    "            (train.dropoff_longitude >= boundary['min_longitude']) & (train.dropoff_longitude <= boundary['max_longitude']) &\n",
    "            (train.dropoff_latitude >=boundary['min_latitude']) & (train.dropoff_latitude <= boundary['max_latitude'])),'outlier']=0\n",
    "\n",
    "# Let us drop outlier locations\n",
    "train=train.loc[train['outlier']==0]\n",
    "train.drop(['outlier'],axis=1,inplace=True)"
   ]
  },
  {
   "cell_type": "code",
   "execution_count": 14,
   "metadata": {},
   "outputs": [
    {
     "data": {
      "text/plain": [
       "(15713, 7)"
      ]
     },
     "execution_count": 14,
     "metadata": {},
     "output_type": "execute_result"
    }
   ],
   "source": [
    "train.shape"
   ]
  },
  {
   "cell_type": "markdown",
   "metadata": {},
   "source": [
    "### Now let us extract important features from pickup_datetime"
   ]
  },
  {
   "cell_type": "code",
   "execution_count": 15,
   "metadata": {},
   "outputs": [],
   "source": [
    "#lets create a function to get important features from pickup_datetime variable in train and test datasets\n",
    "def clean(data):\n",
    "    data['pickup_datetime']=data.pickup_datetime.str.slice(-23,-3)\n",
    "    data['pickup_datetime']=pd.to_datetime(data.pickup_datetime)\n",
    "    data['day'] = data['pickup_datetime'].dt.day\n",
    "    data['year'] = data['pickup_datetime'].dt.year \n",
    "    data['month'] = data['pickup_datetime'].dt.month \n",
    "    data['hour'] = data['pickup_datetime'].dt.hour \n",
    "    data['weekday'] = data['pickup_datetime'].dt.weekday\n",
    "    data=data.dropna(subset=['year','month','hour','weekday'])\n",
    "    return data\n"
   ]
  },
  {
   "cell_type": "code",
   "execution_count": 16,
   "metadata": {},
   "outputs": [],
   "source": [
    "train=clean(train)"
   ]
  },
  {
   "cell_type": "code",
   "execution_count": 17,
   "metadata": {},
   "outputs": [
    {
     "data": {
      "text/plain": [
       "(15712, 12)"
      ]
     },
     "execution_count": 17,
     "metadata": {},
     "output_type": "execute_result"
    }
   ],
   "source": [
    "train.shape"
   ]
  },
  {
   "cell_type": "code",
   "execution_count": 18,
   "metadata": {},
   "outputs": [],
   "source": [
    "test=clean(test)"
   ]
  },
  {
   "cell_type": "code",
   "execution_count": 19,
   "metadata": {},
   "outputs": [
    {
     "data": {
      "text/plain": [
       "(9914, 11)"
      ]
     },
     "execution_count": 19,
     "metadata": {},
     "output_type": "execute_result"
    }
   ],
   "source": [
    "test.shape"
   ]
  },
  {
   "cell_type": "code",
   "execution_count": null,
   "metadata": {},
   "outputs": [],
   "source": [
    "\n"
   ]
  },
  {
   "cell_type": "markdown",
   "metadata": {},
   "source": [
    "### Now let's calculate trip distance from picup and dropoff latitude and longitude"
   ]
  },
  {
   "cell_type": "code",
   "execution_count": 20,
   "metadata": {},
   "outputs": [],
   "source": [
    "def trip_distance(lon1, lat1, lon2, lat2):\n",
    "    lon1, lat1, lon2, lat2 = map(np.radians, [lon1, lat1, lon2, lat2])\n",
    "    dlon = lon2 - lon1\n",
    "    dlat = lat2 - lat1\n",
    "    a = np.sin(dlat/2.0)**2 + np.cos(lat1) * np.cos(lat2) * np.sin(dlon/2.0)**2\n",
    "    c = 2 * np.arcsin(np.sqrt(a))\n",
    "    km = 6371 * c  \n",
    "    return km"
   ]
  },
  {
   "cell_type": "code",
   "execution_count": 21,
   "metadata": {},
   "outputs": [],
   "source": [
    "train['trip_distance']=trip_distance(train['pickup_longitude'],train['pickup_latitude'],\n",
    "                                     train['dropoff_longitude'],train['dropoff_latitude'])"
   ]
  },
  {
   "cell_type": "code",
   "execution_count": 22,
   "metadata": {},
   "outputs": [
    {
     "data": {
      "text/plain": [
       "(15712, 13)"
      ]
     },
     "execution_count": 22,
     "metadata": {},
     "output_type": "execute_result"
    }
   ],
   "source": [
    "train.shape"
   ]
  },
  {
   "cell_type": "code",
   "execution_count": 23,
   "metadata": {},
   "outputs": [],
   "source": [
    "test['trip_distance']=trip_distance(test['pickup_longitude'],test['pickup_latitude'],\n",
    "                                     test['dropoff_longitude'],test['dropoff_latitude'])"
   ]
  },
  {
   "cell_type": "code",
   "execution_count": 24,
   "metadata": {},
   "outputs": [
    {
     "data": {
      "text/plain": [
       "(9914, 12)"
      ]
     },
     "execution_count": 24,
     "metadata": {},
     "output_type": "execute_result"
    }
   ],
   "source": [
    "test.shape"
   ]
  },
  {
   "cell_type": "code",
   "execution_count": 29,
   "metadata": {},
   "outputs": [
    {
     "data": {
      "text/html": [
       "<div>\n",
       "<style scoped>\n",
       "    .dataframe tbody tr th:only-of-type {\n",
       "        vertical-align: middle;\n",
       "    }\n",
       "\n",
       "    .dataframe tbody tr th {\n",
       "        vertical-align: top;\n",
       "    }\n",
       "\n",
       "    .dataframe thead th {\n",
       "        text-align: right;\n",
       "    }\n",
       "</style>\n",
       "<table border=\"1\" class=\"dataframe\">\n",
       "  <thead>\n",
       "    <tr style=\"text-align: right;\">\n",
       "      <th></th>\n",
       "      <th>fare_amount</th>\n",
       "      <th>pickup_datetime</th>\n",
       "      <th>pickup_longitude</th>\n",
       "      <th>pickup_latitude</th>\n",
       "      <th>dropoff_longitude</th>\n",
       "      <th>dropoff_latitude</th>\n",
       "      <th>passenger_count</th>\n",
       "      <th>day</th>\n",
       "      <th>year</th>\n",
       "      <th>month</th>\n",
       "      <th>hour</th>\n",
       "      <th>weekday</th>\n",
       "      <th>trip_distance</th>\n",
       "    </tr>\n",
       "  </thead>\n",
       "  <tbody>\n",
       "    <tr>\n",
       "      <th>0</th>\n",
       "      <td>4.5</td>\n",
       "      <td>2009-06-15 17:26:21</td>\n",
       "      <td>-73.844311</td>\n",
       "      <td>40.721319</td>\n",
       "      <td>-73.841610</td>\n",
       "      <td>40.712278</td>\n",
       "      <td>1.0</td>\n",
       "      <td>15.0</td>\n",
       "      <td>2009.0</td>\n",
       "      <td>6.0</td>\n",
       "      <td>17.0</td>\n",
       "      <td>0.0</td>\n",
       "      <td>1.030764</td>\n",
       "    </tr>\n",
       "    <tr>\n",
       "      <th>1</th>\n",
       "      <td>16.9</td>\n",
       "      <td>2010-01-05 16:52:16</td>\n",
       "      <td>-74.016048</td>\n",
       "      <td>40.711303</td>\n",
       "      <td>-73.979268</td>\n",
       "      <td>40.782004</td>\n",
       "      <td>1.0</td>\n",
       "      <td>5.0</td>\n",
       "      <td>2010.0</td>\n",
       "      <td>1.0</td>\n",
       "      <td>16.0</td>\n",
       "      <td>1.0</td>\n",
       "      <td>8.450134</td>\n",
       "    </tr>\n",
       "    <tr>\n",
       "      <th>2</th>\n",
       "      <td>5.7</td>\n",
       "      <td>2011-08-18 00:35:00</td>\n",
       "      <td>-73.982738</td>\n",
       "      <td>40.761270</td>\n",
       "      <td>-73.991242</td>\n",
       "      <td>40.750562</td>\n",
       "      <td>2.0</td>\n",
       "      <td>18.0</td>\n",
       "      <td>2011.0</td>\n",
       "      <td>8.0</td>\n",
       "      <td>0.0</td>\n",
       "      <td>3.0</td>\n",
       "      <td>1.389525</td>\n",
       "    </tr>\n",
       "    <tr>\n",
       "      <th>3</th>\n",
       "      <td>7.7</td>\n",
       "      <td>2012-04-21 04:30:42</td>\n",
       "      <td>-73.987130</td>\n",
       "      <td>40.733143</td>\n",
       "      <td>-73.991567</td>\n",
       "      <td>40.758092</td>\n",
       "      <td>1.0</td>\n",
       "      <td>21.0</td>\n",
       "      <td>2012.0</td>\n",
       "      <td>4.0</td>\n",
       "      <td>4.0</td>\n",
       "      <td>5.0</td>\n",
       "      <td>2.799270</td>\n",
       "    </tr>\n",
       "    <tr>\n",
       "      <th>4</th>\n",
       "      <td>5.3</td>\n",
       "      <td>2010-03-09 07:51:00</td>\n",
       "      <td>-73.968095</td>\n",
       "      <td>40.768008</td>\n",
       "      <td>-73.956655</td>\n",
       "      <td>40.783762</td>\n",
       "      <td>1.0</td>\n",
       "      <td>9.0</td>\n",
       "      <td>2010.0</td>\n",
       "      <td>3.0</td>\n",
       "      <td>7.0</td>\n",
       "      <td>1.0</td>\n",
       "      <td>1.999157</td>\n",
       "    </tr>\n",
       "  </tbody>\n",
       "</table>\n",
       "</div>"
      ],
      "text/plain": [
       "   fare_amount     pickup_datetime  pickup_longitude  pickup_latitude  \\\n",
       "0          4.5 2009-06-15 17:26:21        -73.844311        40.721319   \n",
       "1         16.9 2010-01-05 16:52:16        -74.016048        40.711303   \n",
       "2          5.7 2011-08-18 00:35:00        -73.982738        40.761270   \n",
       "3          7.7 2012-04-21 04:30:42        -73.987130        40.733143   \n",
       "4          5.3 2010-03-09 07:51:00        -73.968095        40.768008   \n",
       "\n",
       "   dropoff_longitude  dropoff_latitude  passenger_count   day    year  month  \\\n",
       "0         -73.841610         40.712278              1.0  15.0  2009.0    6.0   \n",
       "1         -73.979268         40.782004              1.0   5.0  2010.0    1.0   \n",
       "2         -73.991242         40.750562              2.0  18.0  2011.0    8.0   \n",
       "3         -73.991567         40.758092              1.0  21.0  2012.0    4.0   \n",
       "4         -73.956655         40.783762              1.0   9.0  2010.0    3.0   \n",
       "\n",
       "   hour  weekday  trip_distance  \n",
       "0  17.0      0.0       1.030764  \n",
       "1  16.0      1.0       8.450134  \n",
       "2   0.0      3.0       1.389525  \n",
       "3   4.0      5.0       2.799270  \n",
       "4   7.0      1.0       1.999157  "
      ]
     },
     "execution_count": 29,
     "metadata": {},
     "output_type": "execute_result"
    }
   ],
   "source": [
    "train.head()"
   ]
  },
  {
   "cell_type": "code",
   "execution_count": null,
   "metadata": {},
   "outputs": [],
   "source": []
  },
  {
   "cell_type": "code",
   "execution_count": 36,
   "metadata": {},
   "outputs": [
    {
     "data": {
      "text/html": [
       "<div>\n",
       "<style scoped>\n",
       "    .dataframe tbody tr th:only-of-type {\n",
       "        vertical-align: middle;\n",
       "    }\n",
       "\n",
       "    .dataframe tbody tr th {\n",
       "        vertical-align: top;\n",
       "    }\n",
       "\n",
       "    .dataframe thead th {\n",
       "        text-align: right;\n",
       "    }\n",
       "</style>\n",
       "<table border=\"1\" class=\"dataframe\">\n",
       "  <thead>\n",
       "    <tr style=\"text-align: right;\">\n",
       "      <th></th>\n",
       "      <th>fare_amount</th>\n",
       "      <th>pickup_longitude</th>\n",
       "      <th>pickup_latitude</th>\n",
       "      <th>dropoff_longitude</th>\n",
       "      <th>dropoff_latitude</th>\n",
       "      <th>passenger_count</th>\n",
       "      <th>day</th>\n",
       "      <th>year</th>\n",
       "      <th>month</th>\n",
       "      <th>hour</th>\n",
       "      <th>weekday</th>\n",
       "      <th>trip_distance</th>\n",
       "    </tr>\n",
       "  </thead>\n",
       "  <tbody>\n",
       "    <tr>\n",
       "      <th>count</th>\n",
       "      <td>15712.000000</td>\n",
       "      <td>15712.000000</td>\n",
       "      <td>15712.000000</td>\n",
       "      <td>15712.000000</td>\n",
       "      <td>15712.000000</td>\n",
       "      <td>15712.000000</td>\n",
       "      <td>15712.000000</td>\n",
       "      <td>15712.000000</td>\n",
       "      <td>15712.000000</td>\n",
       "      <td>15712.000000</td>\n",
       "      <td>15712.000000</td>\n",
       "      <td>15712.000000</td>\n",
       "    </tr>\n",
       "    <tr>\n",
       "      <th>mean</th>\n",
       "      <td>15.096866</td>\n",
       "      <td>-73.974743</td>\n",
       "      <td>40.751361</td>\n",
       "      <td>-73.973763</td>\n",
       "      <td>40.751904</td>\n",
       "      <td>2.624212</td>\n",
       "      <td>15.667324</td>\n",
       "      <td>2011.734916</td>\n",
       "      <td>6.265784</td>\n",
       "      <td>13.505028</td>\n",
       "      <td>3.031886</td>\n",
       "      <td>3.367074</td>\n",
       "    </tr>\n",
       "    <tr>\n",
       "      <th>std</th>\n",
       "      <td>434.964707</td>\n",
       "      <td>0.041117</td>\n",
       "      <td>0.031319</td>\n",
       "      <td>0.039085</td>\n",
       "      <td>0.033255</td>\n",
       "      <td>61.392330</td>\n",
       "      <td>8.683481</td>\n",
       "      <td>1.867260</td>\n",
       "      <td>3.448486</td>\n",
       "      <td>6.506674</td>\n",
       "      <td>1.970197</td>\n",
       "      <td>4.106998</td>\n",
       "    </tr>\n",
       "    <tr>\n",
       "      <th>min</th>\n",
       "      <td>-3.000000</td>\n",
       "      <td>-74.181602</td>\n",
       "      <td>40.604462</td>\n",
       "      <td>-74.183955</td>\n",
       "      <td>40.574652</td>\n",
       "      <td>0.000000</td>\n",
       "      <td>1.000000</td>\n",
       "      <td>2009.000000</td>\n",
       "      <td>1.000000</td>\n",
       "      <td>0.000000</td>\n",
       "      <td>0.000000</td>\n",
       "      <td>0.000000</td>\n",
       "    </tr>\n",
       "    <tr>\n",
       "      <th>25%</th>\n",
       "      <td>6.000000</td>\n",
       "      <td>-73.992386</td>\n",
       "      <td>40.736661</td>\n",
       "      <td>-73.991372</td>\n",
       "      <td>40.736370</td>\n",
       "      <td>1.000000</td>\n",
       "      <td>8.000000</td>\n",
       "      <td>2010.000000</td>\n",
       "      <td>3.000000</td>\n",
       "      <td>9.000000</td>\n",
       "      <td>1.000000</td>\n",
       "      <td>1.257105</td>\n",
       "    </tr>\n",
       "    <tr>\n",
       "      <th>50%</th>\n",
       "      <td>8.500000</td>\n",
       "      <td>-73.982053</td>\n",
       "      <td>40.753366</td>\n",
       "      <td>-73.980571</td>\n",
       "      <td>40.754260</td>\n",
       "      <td>1.000000</td>\n",
       "      <td>16.000000</td>\n",
       "      <td>2012.000000</td>\n",
       "      <td>6.000000</td>\n",
       "      <td>14.000000</td>\n",
       "      <td>3.000000</td>\n",
       "      <td>2.169670</td>\n",
       "    </tr>\n",
       "    <tr>\n",
       "      <th>75%</th>\n",
       "      <td>12.500000</td>\n",
       "      <td>-73.968117</td>\n",
       "      <td>40.767805</td>\n",
       "      <td>-73.965393</td>\n",
       "      <td>40.768338</td>\n",
       "      <td>2.000000</td>\n",
       "      <td>23.000000</td>\n",
       "      <td>2013.000000</td>\n",
       "      <td>9.000000</td>\n",
       "      <td>19.000000</td>\n",
       "      <td>5.000000</td>\n",
       "      <td>3.893488</td>\n",
       "    </tr>\n",
       "    <tr>\n",
       "      <th>max</th>\n",
       "      <td>54343.000000</td>\n",
       "      <td>-73.137393</td>\n",
       "      <td>41.366138</td>\n",
       "      <td>-73.137393</td>\n",
       "      <td>41.366138</td>\n",
       "      <td>5345.000000</td>\n",
       "      <td>31.000000</td>\n",
       "      <td>2015.000000</td>\n",
       "      <td>12.000000</td>\n",
       "      <td>23.000000</td>\n",
       "      <td>6.000000</td>\n",
       "      <td>101.094619</td>\n",
       "    </tr>\n",
       "  </tbody>\n",
       "</table>\n",
       "</div>"
      ],
      "text/plain": [
       "        fare_amount  pickup_longitude  pickup_latitude  dropoff_longitude  \\\n",
       "count  15712.000000      15712.000000     15712.000000       15712.000000   \n",
       "mean      15.096866        -73.974743        40.751361         -73.973763   \n",
       "std      434.964707          0.041117         0.031319           0.039085   \n",
       "min       -3.000000        -74.181602        40.604462         -74.183955   \n",
       "25%        6.000000        -73.992386        40.736661         -73.991372   \n",
       "50%        8.500000        -73.982053        40.753366         -73.980571   \n",
       "75%       12.500000        -73.968117        40.767805         -73.965393   \n",
       "max    54343.000000        -73.137393        41.366138         -73.137393   \n",
       "\n",
       "       dropoff_latitude  passenger_count           day          year  \\\n",
       "count      15712.000000     15712.000000  15712.000000  15712.000000   \n",
       "mean          40.751904         2.624212     15.667324   2011.734916   \n",
       "std            0.033255        61.392330      8.683481      1.867260   \n",
       "min           40.574652         0.000000      1.000000   2009.000000   \n",
       "25%           40.736370         1.000000      8.000000   2010.000000   \n",
       "50%           40.754260         1.000000     16.000000   2012.000000   \n",
       "75%           40.768338         2.000000     23.000000   2013.000000   \n",
       "max           41.366138      5345.000000     31.000000   2015.000000   \n",
       "\n",
       "              month          hour       weekday  trip_distance  \n",
       "count  15712.000000  15712.000000  15712.000000   15712.000000  \n",
       "mean       6.265784     13.505028      3.031886       3.367074  \n",
       "std        3.448486      6.506674      1.970197       4.106998  \n",
       "min        1.000000      0.000000      0.000000       0.000000  \n",
       "25%        3.000000      9.000000      1.000000       1.257105  \n",
       "50%        6.000000     14.000000      3.000000       2.169670  \n",
       "75%        9.000000     19.000000      5.000000       3.893488  \n",
       "max       12.000000     23.000000      6.000000     101.094619  "
      ]
     },
     "execution_count": 36,
     "metadata": {},
     "output_type": "execute_result"
    }
   ],
   "source": [
    "#Now look at the summary of the data\n",
    "train.describe()"
   ]
  },
  {
   "cell_type": "markdown",
   "metadata": {},
   "source": [
    "#### 1.look at the summary of fare_amount,passenger_count and trip_distance\n",
    "#### 2.fare_amount has minimun value as negative value which is not possible so we will drop negative values\n",
    "#### 3.passenger_count has minimum value 0 which also does not have any significant value for our model so we will drop it\n",
    "#### 4.trip_distance also has minimum value as 0 which is also of no use\n"
   ]
  },
  {
   "cell_type": "code",
   "execution_count": 40,
   "metadata": {},
   "outputs": [],
   "source": [
    "#let's clean fare_amount variable"
   ]
  },
  {
   "cell_type": "code",
   "execution_count": 25,
   "metadata": {},
   "outputs": [],
   "source": [
    "#Removing all the fares having value zero\n",
    "train.drop(train[train['fare_amount'] < 1].index, inplace = True)"
   ]
  },
  {
   "cell_type": "code",
   "execution_count": 26,
   "metadata": {},
   "outputs": [],
   "source": [
    "#Removing all the passenger_counts having value zero or more than six\n",
    "train=train[train['passenger_count']<=6]\n",
    "train=train[train['passenger_count']>=1]\n"
   ]
  },
  {
   "cell_type": "code",
   "execution_count": 27,
   "metadata": {},
   "outputs": [
    {
     "data": {
      "text/plain": [
       "1.0    11051\n",
       "2.0     2281\n",
       "5.0     1023\n",
       "3.0      662\n",
       "4.0      320\n",
       "6.0      295\n",
       "1.3        1\n",
       "Name: passenger_count, dtype: int64"
      ]
     },
     "execution_count": 27,
     "metadata": {},
     "output_type": "execute_result"
    }
   ],
   "source": [
    "#lets check values of passenger_counts\n",
    "train['passenger_count'].value_counts()"
   ]
  },
  {
   "cell_type": "markdown",
   "metadata": {},
   "source": [
    "### there cannot be 1.3 passenger so lets remove it"
   ]
  },
  {
   "cell_type": "code",
   "execution_count": 28,
   "metadata": {},
   "outputs": [],
   "source": [
    "train=train[train['passenger_count']!=1.3]"
   ]
  },
  {
   "cell_type": "code",
   "execution_count": 29,
   "metadata": {},
   "outputs": [],
   "source": [
    "##Now remove the trip_distance having value less than 0.2 as most of people will not take a cab for distance below 200 meters\n",
    "train = train.loc[train['trip_distance'] >=0.2]"
   ]
  },
  {
   "cell_type": "code",
   "execution_count": 68,
   "metadata": {},
   "outputs": [
    {
     "data": {
      "text/plain": [
       "1.205594     1\n",
       "1.982825     1\n",
       "2.112972     1\n",
       "10.857929    1\n",
       "1.047780     1\n",
       "            ..\n",
       "11.193472    1\n",
       "2.303258     1\n",
       "1.235731     1\n",
       "3.651410     1\n",
       "0.705864     1\n",
       "Name: trip_distance, Length: 15345, dtype: int64"
      ]
     },
     "execution_count": 68,
     "metadata": {},
     "output_type": "execute_result"
    }
   ],
   "source": [
    "train['trip_distance'].value_counts()"
   ]
  },
  {
   "cell_type": "code",
   "execution_count": null,
   "metadata": {},
   "outputs": [],
   "source": []
  },
  {
   "cell_type": "code",
   "execution_count": 43,
   "metadata": {},
   "outputs": [
    {
     "data": {
      "text/html": [
       "<div>\n",
       "<style scoped>\n",
       "    .dataframe tbody tr th:only-of-type {\n",
       "        vertical-align: middle;\n",
       "    }\n",
       "\n",
       "    .dataframe tbody tr th {\n",
       "        vertical-align: top;\n",
       "    }\n",
       "\n",
       "    .dataframe thead th {\n",
       "        text-align: right;\n",
       "    }\n",
       "</style>\n",
       "<table border=\"1\" class=\"dataframe\">\n",
       "  <thead>\n",
       "    <tr style=\"text-align: right;\">\n",
       "      <th></th>\n",
       "      <th>fare_amount</th>\n",
       "      <th>pickup_longitude</th>\n",
       "      <th>pickup_latitude</th>\n",
       "      <th>dropoff_longitude</th>\n",
       "      <th>dropoff_latitude</th>\n",
       "      <th>passenger_count</th>\n",
       "      <th>day</th>\n",
       "      <th>year</th>\n",
       "      <th>month</th>\n",
       "      <th>hour</th>\n",
       "      <th>weekday</th>\n",
       "      <th>trip_distance</th>\n",
       "    </tr>\n",
       "  </thead>\n",
       "  <tbody>\n",
       "    <tr>\n",
       "      <th>count</th>\n",
       "      <td>15345.000000</td>\n",
       "      <td>15345.000000</td>\n",
       "      <td>15345.000000</td>\n",
       "      <td>15345.000000</td>\n",
       "      <td>15345.000000</td>\n",
       "      <td>15345.000000</td>\n",
       "      <td>15345.000000</td>\n",
       "      <td>15345.000000</td>\n",
       "      <td>15345.000000</td>\n",
       "      <td>15345.000000</td>\n",
       "      <td>15345.000000</td>\n",
       "      <td>15345.000000</td>\n",
       "    </tr>\n",
       "    <tr>\n",
       "      <th>mean</th>\n",
       "      <td>15.196998</td>\n",
       "      <td>-73.975269</td>\n",
       "      <td>40.751209</td>\n",
       "      <td>-73.974274</td>\n",
       "      <td>40.751758</td>\n",
       "      <td>1.649853</td>\n",
       "      <td>15.661714</td>\n",
       "      <td>2011.742522</td>\n",
       "      <td>6.273900</td>\n",
       "      <td>13.505898</td>\n",
       "      <td>3.036038</td>\n",
       "      <td>3.433484</td>\n",
       "    </tr>\n",
       "    <tr>\n",
       "      <th>std</th>\n",
       "      <td>440.128546</td>\n",
       "      <td>0.037531</td>\n",
       "      <td>0.029037</td>\n",
       "      <td>0.035228</td>\n",
       "      <td>0.031143</td>\n",
       "      <td>1.266128</td>\n",
       "      <td>8.686279</td>\n",
       "      <td>1.871450</td>\n",
       "      <td>3.449016</td>\n",
       "      <td>6.507424</td>\n",
       "      <td>1.970803</td>\n",
       "      <td>4.125446</td>\n",
       "    </tr>\n",
       "    <tr>\n",
       "      <th>min</th>\n",
       "      <td>1.140000</td>\n",
       "      <td>-74.133710</td>\n",
       "      <td>40.609495</td>\n",
       "      <td>-74.183955</td>\n",
       "      <td>40.574652</td>\n",
       "      <td>1.000000</td>\n",
       "      <td>1.000000</td>\n",
       "      <td>2009.000000</td>\n",
       "      <td>1.000000</td>\n",
       "      <td>0.000000</td>\n",
       "      <td>0.000000</td>\n",
       "      <td>0.200437</td>\n",
       "    </tr>\n",
       "    <tr>\n",
       "      <th>25%</th>\n",
       "      <td>6.000000</td>\n",
       "      <td>-73.992410</td>\n",
       "      <td>40.736686</td>\n",
       "      <td>-73.991376</td>\n",
       "      <td>40.736413</td>\n",
       "      <td>1.000000</td>\n",
       "      <td>8.000000</td>\n",
       "      <td>2010.000000</td>\n",
       "      <td>3.000000</td>\n",
       "      <td>9.000000</td>\n",
       "      <td>1.000000</td>\n",
       "      <td>1.299040</td>\n",
       "    </tr>\n",
       "    <tr>\n",
       "      <th>50%</th>\n",
       "      <td>8.500000</td>\n",
       "      <td>-73.982094</td>\n",
       "      <td>40.753389</td>\n",
       "      <td>-73.980582</td>\n",
       "      <td>40.754279</td>\n",
       "      <td>1.000000</td>\n",
       "      <td>16.000000</td>\n",
       "      <td>2012.000000</td>\n",
       "      <td>6.000000</td>\n",
       "      <td>14.000000</td>\n",
       "      <td>3.000000</td>\n",
       "      <td>2.210763</td>\n",
       "    </tr>\n",
       "    <tr>\n",
       "      <th>75%</th>\n",
       "      <td>12.500000</td>\n",
       "      <td>-73.968260</td>\n",
       "      <td>40.767805</td>\n",
       "      <td>-73.965588</td>\n",
       "      <td>40.768339</td>\n",
       "      <td>2.000000</td>\n",
       "      <td>23.000000</td>\n",
       "      <td>2013.000000</td>\n",
       "      <td>9.000000</td>\n",
       "      <td>19.000000</td>\n",
       "      <td>5.000000</td>\n",
       "      <td>3.956398</td>\n",
       "    </tr>\n",
       "    <tr>\n",
       "      <th>max</th>\n",
       "      <td>54343.000000</td>\n",
       "      <td>-73.137393</td>\n",
       "      <td>41.366138</td>\n",
       "      <td>-73.137393</td>\n",
       "      <td>41.366138</td>\n",
       "      <td>6.000000</td>\n",
       "      <td>31.000000</td>\n",
       "      <td>2015.000000</td>\n",
       "      <td>12.000000</td>\n",
       "      <td>23.000000</td>\n",
       "      <td>6.000000</td>\n",
       "      <td>101.094619</td>\n",
       "    </tr>\n",
       "  </tbody>\n",
       "</table>\n",
       "</div>"
      ],
      "text/plain": [
       "        fare_amount  pickup_longitude  pickup_latitude  dropoff_longitude  \\\n",
       "count  15345.000000      15345.000000     15345.000000       15345.000000   \n",
       "mean      15.196998        -73.975269        40.751209         -73.974274   \n",
       "std      440.128546          0.037531         0.029037           0.035228   \n",
       "min        1.140000        -74.133710        40.609495         -74.183955   \n",
       "25%        6.000000        -73.992410        40.736686         -73.991376   \n",
       "50%        8.500000        -73.982094        40.753389         -73.980582   \n",
       "75%       12.500000        -73.968260        40.767805         -73.965588   \n",
       "max    54343.000000        -73.137393        41.366138         -73.137393   \n",
       "\n",
       "       dropoff_latitude  passenger_count           day          year  \\\n",
       "count      15345.000000     15345.000000  15345.000000  15345.000000   \n",
       "mean          40.751758         1.649853     15.661714   2011.742522   \n",
       "std            0.031143         1.266128      8.686279      1.871450   \n",
       "min           40.574652         1.000000      1.000000   2009.000000   \n",
       "25%           40.736413         1.000000      8.000000   2010.000000   \n",
       "50%           40.754279         1.000000     16.000000   2012.000000   \n",
       "75%           40.768339         2.000000     23.000000   2013.000000   \n",
       "max           41.366138         6.000000     31.000000   2015.000000   \n",
       "\n",
       "              month          hour       weekday  trip_distance  \n",
       "count  15345.000000  15345.000000  15345.000000   15345.000000  \n",
       "mean       6.273900     13.505898      3.036038       3.433484  \n",
       "std        3.449016      6.507424      1.970803       4.125446  \n",
       "min        1.000000      0.000000      0.000000       0.200437  \n",
       "25%        3.000000      9.000000      1.000000       1.299040  \n",
       "50%        6.000000     14.000000      3.000000       2.210763  \n",
       "75%        9.000000     19.000000      5.000000       3.956398  \n",
       "max       12.000000     23.000000      6.000000     101.094619  "
      ]
     },
     "execution_count": 43,
     "metadata": {},
     "output_type": "execute_result"
    }
   ],
   "source": [
    "train.describe()"
   ]
  },
  {
   "cell_type": "markdown",
   "metadata": {},
   "source": [
    "###Now if you will carefully look at the summary of data you will find out that max value in fare_amount is 54343\n",
    "which is way more than the mean value which is 15.19 that means this is an outlier. Same is the case with trip_distance where mean is 3.4 and max value is 101.09 so lets remove outliers from data"
   ]
  },
  {
   "cell_type": "markdown",
   "metadata": {},
   "source": [
    "###  outliers"
   ]
  },
  {
   "cell_type": "code",
   "execution_count": 48,
   "metadata": {},
   "outputs": [],
   "source": [
    "#first look at the relation between trip_distance and fare_amount"
   ]
  },
  {
   "cell_type": "code",
   "execution_count": 36,
   "metadata": {},
   "outputs": [
    {
     "data": {
      "text/plain": [
       "Text(0.5, 1.0, 'Trip Distance vs Fare Amount')"
      ]
     },
     "execution_count": 36,
     "metadata": {},
     "output_type": "execute_result"
    },
    {
     "data": {
      "image/png": "[encoded data removed]",
      "text/plain": [
       "<Figure size 432x288 with 1 Axes>"
      ]
     },
     "metadata": {
      "needs_background": "light"
     },
     "output_type": "display_data"
    }
   ],
   "source": [
    "plt.scatter(x=train['trip_distance'],y=train['fare_amount'])\n",
    "plt.xlabel(\"Trip Distance\")\n",
    "plt.ylabel(\"Fare Amount\")\n",
    "plt.ylim(0, 500)\n",
    "plt.title(\"Trip Distance vs Fare Amount\")"
   ]
  },
  {
   "cell_type": "markdown",
   "metadata": {},
   "source": [
    "#### As you can see in scatterplot that fare amount is almost fixed for trip over 80 kM and sometimes fares are very high for very short distance which is basically an outlier."
   ]
  },
  {
   "cell_type": "code",
   "execution_count": 37,
   "metadata": {},
   "outputs": [
    {
     "data": {
      "text/plain": [
       "{'whiskers': [<matplotlib.lines.Line2D at 0x7f80f30881d0>,\n",
       "  <matplotlib.lines.Line2D at 0x7f80e88d4588>],\n",
       " 'caps': [<matplotlib.lines.Line2D at 0x7f80e88d48d0>,\n",
       "  <matplotlib.lines.Line2D at 0x7f80e88d4c18>],\n",
       " 'boxes': [<matplotlib.lines.Line2D at 0x7f80eb166da0>],\n",
       " 'medians': [<matplotlib.lines.Line2D at 0x7f80e88d4f60>],\n",
       " 'fliers': [<matplotlib.lines.Line2D at 0x7f80e88d4eb8>],\n",
       " 'means': []}"
      ]
     },
     "execution_count": 37,
     "metadata": {},
     "output_type": "execute_result"
    },
    {
     "data": {
      "image/png": "[encoded data removed]",
      "text/plain": [
       "<Figure size 432x288 with 1 Axes>"
      ]
     },
     "metadata": {
      "needs_background": "light"
     },
     "output_type": "display_data"
    }
   ],
   "source": [
    "# #Plot boxplot to visualize Outliers\n",
    "%matplotlib inline  \n",
    "plt.boxplot(train['fare_amount'])"
   ]
  },
  {
   "cell_type": "markdown",
   "metadata": {},
   "source": [
    "###### Now after looking the scatter plot of Fare vs Trip_distance and boxplot of Fare amount we will remove all the fares having value more than 150"
   ]
  },
  {
   "cell_type": "code",
   "execution_count": 30,
   "metadata": {},
   "outputs": [],
   "source": [
    "train=train[train['fare_amount']<150]"
   ]
  },
  {
   "cell_type": "markdown",
   "metadata": {},
   "source": [
    "###### Now lets draw boxplot for trip_distance for train and test datasets"
   ]
  },
  {
   "cell_type": "code",
   "execution_count": 47,
   "metadata": {},
   "outputs": [
    {
     "data": {
      "text/plain": [
       "{'whiskers': [<matplotlib.lines.Line2D at 0x7f91e7e9b470>,\n",
       "  <matplotlib.lines.Line2D at 0x7f91e7e9b7b8>],\n",
       " 'caps': [<matplotlib.lines.Line2D at 0x7f91e7e9bb00>,\n",
       "  <matplotlib.lines.Line2D at 0x7f91e7e9be48>],\n",
       " 'boxes': [<matplotlib.lines.Line2D at 0x7f91e7e9b080>],\n",
       " 'medians': [<matplotlib.lines.Line2D at 0x7f91e7e9bf28>],\n",
       " 'fliers': [<matplotlib.lines.Line2D at 0x7f91e7e24518>],\n",
       " 'means': []}"
      ]
     },
     "execution_count": 47,
     "metadata": {},
     "output_type": "execute_result"
    },
    {
     "data": {
      "image/png": "[encoded data removed]",
      "text/plain": [
       "<Figure size 432x288 with 1 Axes>"
      ]
     },
     "metadata": {
      "needs_background": "light"
     },
     "output_type": "display_data"
    }
   ],
   "source": [
    "%matplotlib inline  \n",
    "plt.boxplot(train['trip_distance'])"
   ]
  },
  {
   "cell_type": "code",
   "execution_count": 48,
   "metadata": {},
   "outputs": [
    {
     "data": {
      "text/plain": [
       "{'whiskers': [<matplotlib.lines.Line2D at 0x7f91e44e0dd8>,\n",
       "  <matplotlib.lines.Line2D at 0x7f91e44e0eb8>],\n",
       " 'caps': [<matplotlib.lines.Line2D at 0x7f91e44ec4a8>,\n",
       "  <matplotlib.lines.Line2D at 0x7f91e44ec7f0>],\n",
       " 'boxes': [<matplotlib.lines.Line2D at 0x7f91e44e09e8>],\n",
       " 'medians': [<matplotlib.lines.Line2D at 0x7f91e44ecb38>],\n",
       " 'fliers': [<matplotlib.lines.Line2D at 0x7f91e44ece80>],\n",
       " 'means': []}"
      ]
     },
     "execution_count": 48,
     "metadata": {},
     "output_type": "execute_result"
    },
    {
     "data": {
      "image/png": "[encoded data removed]",
      "text/plain": [
       "<Figure size 432x288 with 1 Axes>"
      ]
     },
     "metadata": {
      "needs_background": "light"
     },
     "output_type": "display_data"
    }
   ],
   "source": [
    "%matplotlib inline  \n",
    "plt.boxplot(test['trip_distance'])"
   ]
  },
  {
   "cell_type": "markdown",
   "metadata": {},
   "source": [
    "##### After visualising boxplot for trip_distance of train and test datasets we know that they contain almost same trip distance so we will leave trip distance as it is."
   ]
  },
  {
   "cell_type": "markdown",
   "metadata": {},
   "source": []
  },
  {
   "cell_type": "code",
   "execution_count": 31,
   "metadata": {},
   "outputs": [
    {
     "data": {
      "text/plain": [
       "(15340, 13)"
      ]
     },
     "execution_count": 31,
     "metadata": {},
     "output_type": "execute_result"
    }
   ],
   "source": [
    "train.shape"
   ]
  },
  {
   "cell_type": "code",
   "execution_count": 50,
   "metadata": {},
   "outputs": [
    {
     "data": {
      "text/html": [
       "<div>\n",
       "<style scoped>\n",
       "    .dataframe tbody tr th:only-of-type {\n",
       "        vertical-align: middle;\n",
       "    }\n",
       "\n",
       "    .dataframe tbody tr th {\n",
       "        vertical-align: top;\n",
       "    }\n",
       "\n",
       "    .dataframe thead th {\n",
       "        text-align: right;\n",
       "    }\n",
       "</style>\n",
       "<table border=\"1\" class=\"dataframe\">\n",
       "  <thead>\n",
       "    <tr style=\"text-align: right;\">\n",
       "      <th></th>\n",
       "      <th>fare_amount</th>\n",
       "      <th>pickup_longitude</th>\n",
       "      <th>pickup_latitude</th>\n",
       "      <th>dropoff_longitude</th>\n",
       "      <th>dropoff_latitude</th>\n",
       "      <th>passenger_count</th>\n",
       "      <th>day</th>\n",
       "      <th>year</th>\n",
       "      <th>month</th>\n",
       "      <th>hour</th>\n",
       "      <th>weekday</th>\n",
       "      <th>trip_distance</th>\n",
       "    </tr>\n",
       "  </thead>\n",
       "  <tbody>\n",
       "    <tr>\n",
       "      <th>count</th>\n",
       "      <td>15340.000000</td>\n",
       "      <td>15340.000000</td>\n",
       "      <td>15340.000000</td>\n",
       "      <td>15340.000000</td>\n",
       "      <td>15340.000000</td>\n",
       "      <td>15340.000000</td>\n",
       "      <td>15340.000000</td>\n",
       "      <td>15340.000000</td>\n",
       "      <td>15340.000000</td>\n",
       "      <td>15340.000000</td>\n",
       "      <td>15340.000000</td>\n",
       "      <td>15340.000000</td>\n",
       "    </tr>\n",
       "    <tr>\n",
       "      <th>mean</th>\n",
       "      <td>11.290413</td>\n",
       "      <td>-73.975264</td>\n",
       "      <td>40.751210</td>\n",
       "      <td>-73.974272</td>\n",
       "      <td>40.751757</td>\n",
       "      <td>1.650000</td>\n",
       "      <td>15.660887</td>\n",
       "      <td>2011.742568</td>\n",
       "      <td>6.274316</td>\n",
       "      <td>13.504759</td>\n",
       "      <td>3.036115</td>\n",
       "      <td>3.433466</td>\n",
       "    </tr>\n",
       "    <tr>\n",
       "      <th>std</th>\n",
       "      <td>9.280362</td>\n",
       "      <td>0.037535</td>\n",
       "      <td>0.029040</td>\n",
       "      <td>0.035231</td>\n",
       "      <td>0.031144</td>\n",
       "      <td>1.266288</td>\n",
       "      <td>8.686197</td>\n",
       "      <td>1.871419</td>\n",
       "      <td>3.448840</td>\n",
       "      <td>6.507487</td>\n",
       "      <td>1.970742</td>\n",
       "      <td>4.125994</td>\n",
       "    </tr>\n",
       "    <tr>\n",
       "      <th>min</th>\n",
       "      <td>1.140000</td>\n",
       "      <td>-74.133710</td>\n",
       "      <td>40.609495</td>\n",
       "      <td>-74.183955</td>\n",
       "      <td>40.574652</td>\n",
       "      <td>1.000000</td>\n",
       "      <td>1.000000</td>\n",
       "      <td>2009.000000</td>\n",
       "      <td>1.000000</td>\n",
       "      <td>0.000000</td>\n",
       "      <td>0.000000</td>\n",
       "      <td>0.200437</td>\n",
       "    </tr>\n",
       "    <tr>\n",
       "      <th>25%</th>\n",
       "      <td>6.000000</td>\n",
       "      <td>-73.992409</td>\n",
       "      <td>40.736687</td>\n",
       "      <td>-73.991376</td>\n",
       "      <td>40.736409</td>\n",
       "      <td>1.000000</td>\n",
       "      <td>8.000000</td>\n",
       "      <td>2010.000000</td>\n",
       "      <td>3.000000</td>\n",
       "      <td>9.000000</td>\n",
       "      <td>1.000000</td>\n",
       "      <td>1.299001</td>\n",
       "    </tr>\n",
       "    <tr>\n",
       "      <th>50%</th>\n",
       "      <td>8.500000</td>\n",
       "      <td>-73.982093</td>\n",
       "      <td>40.753391</td>\n",
       "      <td>-73.980589</td>\n",
       "      <td>40.754278</td>\n",
       "      <td>1.000000</td>\n",
       "      <td>16.000000</td>\n",
       "      <td>2012.000000</td>\n",
       "      <td>6.000000</td>\n",
       "      <td>14.000000</td>\n",
       "      <td>3.000000</td>\n",
       "      <td>2.210627</td>\n",
       "    </tr>\n",
       "    <tr>\n",
       "      <th>75%</th>\n",
       "      <td>12.500000</td>\n",
       "      <td>-73.968255</td>\n",
       "      <td>40.767805</td>\n",
       "      <td>-73.965591</td>\n",
       "      <td>40.768338</td>\n",
       "      <td>2.000000</td>\n",
       "      <td>23.000000</td>\n",
       "      <td>2013.000000</td>\n",
       "      <td>9.000000</td>\n",
       "      <td>19.000000</td>\n",
       "      <td>5.000000</td>\n",
       "      <td>3.955927</td>\n",
       "    </tr>\n",
       "    <tr>\n",
       "      <th>max</th>\n",
       "      <td>108.000000</td>\n",
       "      <td>-73.137393</td>\n",
       "      <td>41.366138</td>\n",
       "      <td>-73.137393</td>\n",
       "      <td>41.366138</td>\n",
       "      <td>6.000000</td>\n",
       "      <td>31.000000</td>\n",
       "      <td>2015.000000</td>\n",
       "      <td>12.000000</td>\n",
       "      <td>23.000000</td>\n",
       "      <td>6.000000</td>\n",
       "      <td>101.094619</td>\n",
       "    </tr>\n",
       "  </tbody>\n",
       "</table>\n",
       "</div>"
      ],
      "text/plain": [
       "        fare_amount  pickup_longitude  pickup_latitude  dropoff_longitude  \\\n",
       "count  15340.000000      15340.000000     15340.000000       15340.000000   \n",
       "mean      11.290413        -73.975264        40.751210         -73.974272   \n",
       "std        9.280362          0.037535         0.029040           0.035231   \n",
       "min        1.140000        -74.133710        40.609495         -74.183955   \n",
       "25%        6.000000        -73.992409        40.736687         -73.991376   \n",
       "50%        8.500000        -73.982093        40.753391         -73.980589   \n",
       "75%       12.500000        -73.968255        40.767805         -73.965591   \n",
       "max      108.000000        -73.137393        41.366138         -73.137393   \n",
       "\n",
       "       dropoff_latitude  passenger_count           day          year  \\\n",
       "count      15340.000000     15340.000000  15340.000000  15340.000000   \n",
       "mean          40.751757         1.650000     15.660887   2011.742568   \n",
       "std            0.031144         1.266288      8.686197      1.871419   \n",
       "min           40.574652         1.000000      1.000000   2009.000000   \n",
       "25%           40.736409         1.000000      8.000000   2010.000000   \n",
       "50%           40.754278         1.000000     16.000000   2012.000000   \n",
       "75%           40.768338         2.000000     23.000000   2013.000000   \n",
       "max           41.366138         6.000000     31.000000   2015.000000   \n",
       "\n",
       "              month          hour       weekday  trip_distance  \n",
       "count  15340.000000  15340.000000  15340.000000   15340.000000  \n",
       "mean       6.274316     13.504759      3.036115       3.433466  \n",
       "std        3.448840      6.507487      1.970742       4.125994  \n",
       "min        1.000000      0.000000      0.000000       0.200437  \n",
       "25%        3.000000      9.000000      1.000000       1.299001  \n",
       "50%        6.000000     14.000000      3.000000       2.210627  \n",
       "75%        9.000000     19.000000      5.000000       3.955927  \n",
       "max       12.000000     23.000000      6.000000     101.094619  "
      ]
     },
     "execution_count": 50,
     "metadata": {},
     "output_type": "execute_result"
    }
   ],
   "source": [
    "train.describe()"
   ]
  },
  {
   "cell_type": "code",
   "execution_count": 56,
   "metadata": {},
   "outputs": [],
   "source": [
    "#now you can see after removing ouliers max value and mean of fare_amount has been changed"
   ]
  },
  {
   "cell_type": "code",
   "execution_count": 44,
   "metadata": {},
   "outputs": [],
   "source": [
    "# train.to_csv(\"trained_data.csv\", index=False)"
   ]
  },
  {
   "cell_type": "code",
   "execution_count": 45,
   "metadata": {},
   "outputs": [],
   "source": [
    "# test.to_csv(\"processed_test_data.csv\",index=False)"
   ]
  },
  {
   "cell_type": "markdown",
   "metadata": {},
   "source": []
  },
  {
   "cell_type": "code",
   "execution_count": 51,
   "metadata": {},
   "outputs": [
    {
     "data": {
      "image/png": "[encoded data removed]",
      "text/plain": [
       "<Figure size 1008x288 with 1 Axes>"
      ]
     },
     "metadata": {
      "needs_background": "light"
     },
     "output_type": "display_data"
    }
   ],
   "source": [
    "#let's visualize fare_amount\n",
    "plt.figure(figsize = (14, 4))\n",
    "n, bins, patches = plt.hist(train.fare_amount, 50, facecolor='green', alpha=0.8)\n",
    "plt.xlabel('Fare Amount')\n",
    "plt.title('Histogram of Fare Amount')\n",
    "plt.xlim(0, 100)\n",
    "plt.show();"
   ]
  },
  {
   "cell_type": "code",
   "execution_count": 60,
   "metadata": {},
   "outputs": [],
   "source": [
    "#as we can see in the histogram most Fare drops between 5 to 15 dollars indicating short trips"
   ]
  },
  {
   "cell_type": "code",
   "execution_count": 52,
   "metadata": {},
   "outputs": [
    {
     "data": {
      "image/png": "[encoded data removed]",
      "text/plain": [
       "<Figure size 432x288 with 1 Axes>"
      ]
     },
     "metadata": {
      "needs_background": "light"
     },
     "output_type": "display_data"
    }
   ],
   "source": [
    "#now lets visualize passenger_count\n",
    "train['passenger_count'].value_counts().plot.bar(color = 'blue', edgecolor = 'black');\n",
    "plt.title('Bargraph of passenger counts'); plt.xlabel('Passenger counts'); plt.ylabel('Count');"
   ]
  },
  {
   "cell_type": "code",
   "execution_count": 62,
   "metadata": {},
   "outputs": [],
   "source": [
    "#you can see in the above bargraph that most of the time single passengers have booked cab and family booking is least"
   ]
  },
  {
   "cell_type": "code",
   "execution_count": 53,
   "metadata": {},
   "outputs": [
    {
     "data": {
      "image/png": "[encoded data removed]",
      "text/plain": [
       "<Figure size 1008x288 with 1 Axes>"
      ]
     },
     "metadata": {
      "needs_background": "light"
     },
     "output_type": "display_data"
    }
   ],
   "source": [
    "#lets visualize the trip_distance\\\n",
    "plt.figure(figsize = (14, 4))\n",
    "n, bins, patches = plt.hist(train.trip_distance, 200, facecolor='blue', alpha=0.75)\n",
    "plt.xlabel('trip_distance')\n",
    "plt.xlim(0, 40)\n",
    "plt.title('Histogram of trip distance')\n",
    "plt.show();"
   ]
  },
  {
   "cell_type": "code",
   "execution_count": 64,
   "metadata": {},
   "outputs": [],
   "source": [
    "#in the above histogram we can see that maximum no. of times people took short trips between somewhere 0.7 to 3 KM\n"
   ]
  },
  {
   "cell_type": "code",
   "execution_count": 39,
   "metadata": {},
   "outputs": [
    {
     "data": {
      "text/plain": [
       "(15340, 13)"
      ]
     },
     "execution_count": 39,
     "metadata": {},
     "output_type": "execute_result"
    }
   ],
   "source": [
    "train.shape"
   ]
  },
  {
   "cell_type": "code",
   "execution_count": 32,
   "metadata": {},
   "outputs": [],
   "source": [
    "def modeling(data,target,drop_cols,split=0.25):\n",
    "    new_data=data.drop(drop_cols,axis=1)\n",
    "    X=new_data.drop([target],axis=1)\n",
    "    y=new_data[target]\n",
    "    X_train, X_test, y_train, y_test = train_test_split(X,y, test_size=split,random_state=42)\n",
    "    print(\"train shape\",X_train.shape)\n",
    "    print(\"test shape\",X_test.shape)\n",
    "    return X_train, X_test, y_train, y_test\n",
    "    return new_data"
   ]
  },
  {
   "cell_type": "code",
   "execution_count": 33,
   "metadata": {},
   "outputs": [
    {
     "name": "stdout",
     "output_type": "stream",
     "text": [
      "train shape (12272, 11)\n",
      "test shape (3068, 11)\n"
     ]
    }
   ],
   "source": [
    "X_train, X_test, y_train, y_test=modeling(train,'fare_amount',drop_cols=['pickup_datetime'],split=0.2)"
   ]
  },
  {
   "cell_type": "code",
   "execution_count": 57,
   "metadata": {},
   "outputs": [
    {
     "data": {
      "text/plain": [
       "fare_amount                 float64\n",
       "pickup_datetime      datetime64[ns]\n",
       "pickup_longitude            float64\n",
       "pickup_latitude             float64\n",
       "dropoff_longitude           float64\n",
       "dropoff_latitude            float64\n",
       "passenger_count             float64\n",
       "day                         float64\n",
       "year                        float64\n",
       "month                       float64\n",
       "hour                        float64\n",
       "weekday                     float64\n",
       "trip_distance               float64\n",
       "dtype: object"
      ]
     },
     "execution_count": 57,
     "metadata": {},
     "output_type": "execute_result"
    }
   ],
   "source": [
    "train.dtypes"
   ]
  },
  {
   "cell_type": "code",
   "execution_count": 58,
   "metadata": {},
   "outputs": [
    {
     "data": {
      "text/html": [
       "<div>\n",
       "<style scoped>\n",
       "    .dataframe tbody tr th:only-of-type {\n",
       "        vertical-align: middle;\n",
       "    }\n",
       "\n",
       "    .dataframe tbody tr th {\n",
       "        vertical-align: top;\n",
       "    }\n",
       "\n",
       "    .dataframe thead th {\n",
       "        text-align: right;\n",
       "    }\n",
       "</style>\n",
       "<table border=\"1\" class=\"dataframe\">\n",
       "  <thead>\n",
       "    <tr style=\"text-align: right;\">\n",
       "      <th></th>\n",
       "      <th>fare_amount</th>\n",
       "      <th>pickup_datetime</th>\n",
       "      <th>pickup_longitude</th>\n",
       "      <th>pickup_latitude</th>\n",
       "      <th>dropoff_longitude</th>\n",
       "      <th>dropoff_latitude</th>\n",
       "      <th>passenger_count</th>\n",
       "      <th>day</th>\n",
       "      <th>year</th>\n",
       "      <th>month</th>\n",
       "      <th>hour</th>\n",
       "      <th>weekday</th>\n",
       "      <th>trip_distance</th>\n",
       "    </tr>\n",
       "  </thead>\n",
       "  <tbody>\n",
       "    <tr>\n",
       "      <th>0</th>\n",
       "      <td>4.5</td>\n",
       "      <td>2009-06-15 17:26:21</td>\n",
       "      <td>-73.844311</td>\n",
       "      <td>40.721319</td>\n",
       "      <td>-73.841610</td>\n",
       "      <td>40.712278</td>\n",
       "      <td>1.0</td>\n",
       "      <td>15.0</td>\n",
       "      <td>2009.0</td>\n",
       "      <td>6.0</td>\n",
       "      <td>17.0</td>\n",
       "      <td>0.0</td>\n",
       "      <td>1.030764</td>\n",
       "    </tr>\n",
       "    <tr>\n",
       "      <th>1</th>\n",
       "      <td>16.9</td>\n",
       "      <td>2010-01-05 16:52:16</td>\n",
       "      <td>-74.016048</td>\n",
       "      <td>40.711303</td>\n",
       "      <td>-73.979268</td>\n",
       "      <td>40.782004</td>\n",
       "      <td>1.0</td>\n",
       "      <td>5.0</td>\n",
       "      <td>2010.0</td>\n",
       "      <td>1.0</td>\n",
       "      <td>16.0</td>\n",
       "      <td>1.0</td>\n",
       "      <td>8.450134</td>\n",
       "    </tr>\n",
       "    <tr>\n",
       "      <th>2</th>\n",
       "      <td>5.7</td>\n",
       "      <td>2011-08-18 00:35:00</td>\n",
       "      <td>-73.982738</td>\n",
       "      <td>40.761270</td>\n",
       "      <td>-73.991242</td>\n",
       "      <td>40.750562</td>\n",
       "      <td>2.0</td>\n",
       "      <td>18.0</td>\n",
       "      <td>2011.0</td>\n",
       "      <td>8.0</td>\n",
       "      <td>0.0</td>\n",
       "      <td>3.0</td>\n",
       "      <td>1.389525</td>\n",
       "    </tr>\n",
       "    <tr>\n",
       "      <th>3</th>\n",
       "      <td>7.7</td>\n",
       "      <td>2012-04-21 04:30:42</td>\n",
       "      <td>-73.987130</td>\n",
       "      <td>40.733143</td>\n",
       "      <td>-73.991567</td>\n",
       "      <td>40.758092</td>\n",
       "      <td>1.0</td>\n",
       "      <td>21.0</td>\n",
       "      <td>2012.0</td>\n",
       "      <td>4.0</td>\n",
       "      <td>4.0</td>\n",
       "      <td>5.0</td>\n",
       "      <td>2.799270</td>\n",
       "    </tr>\n",
       "    <tr>\n",
       "      <th>4</th>\n",
       "      <td>5.3</td>\n",
       "      <td>2010-03-09 07:51:00</td>\n",
       "      <td>-73.968095</td>\n",
       "      <td>40.768008</td>\n",
       "      <td>-73.956655</td>\n",
       "      <td>40.783762</td>\n",
       "      <td>1.0</td>\n",
       "      <td>9.0</td>\n",
       "      <td>2010.0</td>\n",
       "      <td>3.0</td>\n",
       "      <td>7.0</td>\n",
       "      <td>1.0</td>\n",
       "      <td>1.999157</td>\n",
       "    </tr>\n",
       "  </tbody>\n",
       "</table>\n",
       "</div>"
      ],
      "text/plain": [
       "   fare_amount     pickup_datetime  pickup_longitude  pickup_latitude  \\\n",
       "0          4.5 2009-06-15 17:26:21        -73.844311        40.721319   \n",
       "1         16.9 2010-01-05 16:52:16        -74.016048        40.711303   \n",
       "2          5.7 2011-08-18 00:35:00        -73.982738        40.761270   \n",
       "3          7.7 2012-04-21 04:30:42        -73.987130        40.733143   \n",
       "4          5.3 2010-03-09 07:51:00        -73.968095        40.768008   \n",
       "\n",
       "   dropoff_longitude  dropoff_latitude  passenger_count   day    year  month  \\\n",
       "0         -73.841610         40.712278              1.0  15.0  2009.0    6.0   \n",
       "1         -73.979268         40.782004              1.0   5.0  2010.0    1.0   \n",
       "2         -73.991242         40.750562              2.0  18.0  2011.0    8.0   \n",
       "3         -73.991567         40.758092              1.0  21.0  2012.0    4.0   \n",
       "4         -73.956655         40.783762              1.0   9.0  2010.0    3.0   \n",
       "\n",
       "   hour  weekday  trip_distance  \n",
       "0  17.0      0.0       1.030764  \n",
       "1  16.0      1.0       8.450134  \n",
       "2   0.0      3.0       1.389525  \n",
       "3   4.0      5.0       2.799270  \n",
       "4   7.0      1.0       1.999157  "
      ]
     },
     "execution_count": 58,
     "metadata": {},
     "output_type": "execute_result"
    }
   ],
   "source": [
    "train.head()"
   ]
  },
  {
   "cell_type": "code",
   "execution_count": 59,
   "metadata": {},
   "outputs": [
    {
     "data": {
      "text/plain": [
       "pickup_datetime      datetime64[ns]\n",
       "pickup_longitude            float64\n",
       "pickup_latitude             float64\n",
       "dropoff_longitude           float64\n",
       "dropoff_latitude            float64\n",
       "passenger_count               int64\n",
       "day                           int64\n",
       "year                          int64\n",
       "month                         int64\n",
       "hour                          int64\n",
       "weekday                       int64\n",
       "trip_distance               float64\n",
       "dtype: object"
      ]
     },
     "execution_count": 59,
     "metadata": {},
     "output_type": "execute_result"
    }
   ],
   "source": [
    "test.dtypes"
   ]
  },
  {
   "cell_type": "markdown",
   "metadata": {},
   "source": [
    "## Model Development"
   ]
  },
  {
   "cell_type": "markdown",
   "metadata": {},
   "source": [
    "#### Linear Regression"
   ]
  },
  {
   "cell_type": "code",
   "execution_count": 34,
   "metadata": {},
   "outputs": [],
   "source": [
    "# Train the model using the training sets\n",
    "model1 = sm.OLS(y_train, X_train).fit()"
   ]
  },
  {
   "cell_type": "code",
   "execution_count": 35,
   "metadata": {},
   "outputs": [
    {
     "data": {
      "text/html": [
       "<table class=\"simpletable\">\n",
       "<caption>OLS Regression Results</caption>\n",
       "<tr>\n",
       "  <th>Dep. Variable:</th>       <td>fare_amount</td>   <th>  R-squared:         </th> <td>   0.865</td> \n",
       "</tr>\n",
       "<tr>\n",
       "  <th>Model:</th>                   <td>OLS</td>       <th>  Adj. R-squared:    </th> <td>   0.865</td> \n",
       "</tr>\n",
       "<tr>\n",
       "  <th>Method:</th>             <td>Least Squares</td>  <th>  F-statistic:       </th> <td>   7130.</td> \n",
       "</tr>\n",
       "<tr>\n",
       "  <th>Date:</th>             <td>Mon, 02 Sep 2019</td> <th>  Prob (F-statistic):</th>  <td>  0.00</td>  \n",
       "</tr>\n",
       "<tr>\n",
       "  <th>Time:</th>                 <td>13:04:41</td>     <th>  Log-Likelihood:    </th> <td> -38071.</td> \n",
       "</tr>\n",
       "<tr>\n",
       "  <th>No. Observations:</th>      <td> 12272</td>      <th>  AIC:               </th> <td>7.616e+04</td>\n",
       "</tr>\n",
       "<tr>\n",
       "  <th>Df Residuals:</th>          <td> 12261</td>      <th>  BIC:               </th> <td>7.625e+04</td>\n",
       "</tr>\n",
       "<tr>\n",
       "  <th>Df Model:</th>              <td>    11</td>      <th>                     </th>     <td> </td>    \n",
       "</tr>\n",
       "<tr>\n",
       "  <th>Covariance Type:</th>      <td>nonrobust</td>    <th>                     </th>     <td> </td>    \n",
       "</tr>\n",
       "</table>\n",
       "<table class=\"simpletable\">\n",
       "<tr>\n",
       "          <td></td>             <th>coef</th>     <th>std err</th>      <th>t</th>      <th>P>|t|</th>  <th>[0.025</th>    <th>0.975]</th>  \n",
       "</tr>\n",
       "<tr>\n",
       "  <th>pickup_longitude</th>  <td>  -13.2237</td> <td>    1.227</td> <td>  -10.773</td> <td> 0.000</td> <td>  -15.630</td> <td>  -10.818</td>\n",
       "</tr>\n",
       "<tr>\n",
       "  <th>pickup_latitude</th>   <td>  -43.4709</td> <td>    1.719</td> <td>  -25.287</td> <td> 0.000</td> <td>  -46.841</td> <td>  -40.101</td>\n",
       "</tr>\n",
       "<tr>\n",
       "  <th>dropoff_longitude</th> <td>    3.7004</td> <td>    1.223</td> <td>    3.025</td> <td> 0.002</td> <td>    1.303</td> <td>    6.098</td>\n",
       "</tr>\n",
       "<tr>\n",
       "  <th>dropoff_latitude</th>  <td>   -6.2047</td> <td>    1.620</td> <td>   -3.830</td> <td> 0.000</td> <td>   -9.380</td> <td>   -3.029</td>\n",
       "</tr>\n",
       "<tr>\n",
       "  <th>passenger_count</th>   <td>    0.0510</td> <td>    0.039</td> <td>    1.321</td> <td> 0.186</td> <td>   -0.025</td> <td>    0.127</td>\n",
       "</tr>\n",
       "<tr>\n",
       "  <th>day</th>               <td>   -0.0002</td> <td>    0.006</td> <td>   -0.044</td> <td> 0.965</td> <td>   -0.011</td> <td>    0.011</td>\n",
       "</tr>\n",
       "<tr>\n",
       "  <th>year</th>              <td>    0.6583</td> <td>    0.025</td> <td>   26.013</td> <td> 0.000</td> <td>    0.609</td> <td>    0.708</td>\n",
       "</tr>\n",
       "<tr>\n",
       "  <th>month</th>             <td>    0.1071</td> <td>    0.014</td> <td>    7.557</td> <td> 0.000</td> <td>    0.079</td> <td>    0.135</td>\n",
       "</tr>\n",
       "<tr>\n",
       "  <th>hour</th>              <td>    0.0059</td> <td>    0.008</td> <td>    0.780</td> <td> 0.436</td> <td>   -0.009</td> <td>    0.021</td>\n",
       "</tr>\n",
       "<tr>\n",
       "  <th>weekday</th>           <td>   -0.0897</td> <td>    0.025</td> <td>   -3.610</td> <td> 0.000</td> <td>   -0.138</td> <td>   -0.041</td>\n",
       "</tr>\n",
       "<tr>\n",
       "  <th>trip_distance</th>     <td>    1.8394</td> <td>    0.013</td> <td>  145.320</td> <td> 0.000</td> <td>    1.815</td> <td>    1.864</td>\n",
       "</tr>\n",
       "</table>\n",
       "<table class=\"simpletable\">\n",
       "<tr>\n",
       "  <th>Omnibus:</th>       <td>15533.389</td> <th>  Durbin-Watson:     </th>   <td>   1.993</td>  \n",
       "</tr>\n",
       "<tr>\n",
       "  <th>Prob(Omnibus):</th>  <td> 0.000</td>   <th>  Jarque-Bera (JB):  </th> <td>32449063.719</td>\n",
       "</tr>\n",
       "<tr>\n",
       "  <th>Skew:</th>           <td>-6.008</td>   <th>  Prob(JB):          </th>   <td>    0.00</td>  \n",
       "</tr>\n",
       "<tr>\n",
       "  <th>Kurtosis:</th>       <td>254.625</td>  <th>  Cond. No.          </th>   <td>8.69e+04</td>  \n",
       "</tr>\n",
       "</table><br/><br/>Warnings:<br/>[1] Standard Errors assume that the covariance matrix of the errors is correctly specified.<br/>[2] The condition number is large, 8.69e+04. This might indicate that there are<br/>strong multicollinearity or other numerical problems."
      ],
      "text/plain": [
       "<class 'statsmodels.iolib.summary.Summary'>\n",
       "\"\"\"\n",
       "                            OLS Regression Results                            \n",
       "==============================================================================\n",
       "Dep. Variable:            fare_amount   R-squared:                       0.865\n",
       "Model:                            OLS   Adj. R-squared:                  0.865\n",
       "Method:                 Least Squares   F-statistic:                     7130.\n",
       "Date:                Mon, 02 Sep 2019   Prob (F-statistic):               0.00\n",
       "Time:                        13:04:41   Log-Likelihood:                -38071.\n",
       "No. Observations:               12272   AIC:                         7.616e+04\n",
       "Df Residuals:                   12261   BIC:                         7.625e+04\n",
       "Df Model:                          11                                         \n",
       "Covariance Type:            nonrobust                                         \n",
       "=====================================================================================\n",
       "                        coef    std err          t      P>|t|      [0.025      0.975]\n",
       "-------------------------------------------------------------------------------------\n",
       "pickup_longitude    -13.2237      1.227    -10.773      0.000     -15.630     -10.818\n",
       "pickup_latitude     -43.4709      1.719    -25.287      0.000     -46.841     -40.101\n",
       "dropoff_longitude     3.7004      1.223      3.025      0.002       1.303       6.098\n",
       "dropoff_latitude     -6.2047      1.620     -3.830      0.000      -9.380      -3.029\n",
       "passenger_count       0.0510      0.039      1.321      0.186      -0.025       0.127\n",
       "day                  -0.0002      0.006     -0.044      0.965      -0.011       0.011\n",
       "year                  0.6583      0.025     26.013      0.000       0.609       0.708\n",
       "month                 0.1071      0.014      7.557      0.000       0.079       0.135\n",
       "hour                  0.0059      0.008      0.780      0.436      -0.009       0.021\n",
       "weekday              -0.0897      0.025     -3.610      0.000      -0.138      -0.041\n",
       "trip_distance         1.8394      0.013    145.320      0.000       1.815       1.864\n",
       "==============================================================================\n",
       "Omnibus:                    15533.389   Durbin-Watson:                   1.993\n",
       "Prob(Omnibus):                  0.000   Jarque-Bera (JB):         32449063.719\n",
       "Skew:                          -6.008   Prob(JB):                         0.00\n",
       "Kurtosis:                     254.625   Cond. No.                     8.69e+04\n",
       "==============================================================================\n",
       "\n",
       "Warnings:\n",
       "[1] Standard Errors assume that the covariance matrix of the errors is correctly specified.\n",
       "[2] The condition number is large, 8.69e+04. This might indicate that there are\n",
       "strong multicollinearity or other numerical problems.\n",
       "\"\"\""
      ]
     },
     "execution_count": 35,
     "metadata": {},
     "output_type": "execute_result"
    }
   ],
   "source": [
    "model1.summary()"
   ]
  },
  {
   "cell_type": "code",
   "execution_count": 36,
   "metadata": {},
   "outputs": [],
   "source": [
    "y_pred1=model1.predict(X_test)"
   ]
  },
  {
   "cell_type": "markdown",
   "metadata": {},
   "source": [
    "#### Lets use RMSE to test accuracy of the Model"
   ]
  },
  {
   "cell_type": "code",
   "execution_count": 37,
   "metadata": {},
   "outputs": [
    {
     "name": "stdout",
     "output_type": "stream",
     "text": [
      "RMSE for Linear Regression is  5.483912516827407\n"
     ]
    }
   ],
   "source": [
    "lm_rmse=np.sqrt(mean_squared_error(y_pred1, y_test))\n",
    "print(\"RMSE for Linear Regression is \",lm_rmse)"
   ]
  },
  {
   "cell_type": "markdown",
   "metadata": {},
   "source": [
    "##### Now lets try another linear regression by changing split"
   ]
  },
  {
   "cell_type": "code",
   "execution_count": 39,
   "metadata": {},
   "outputs": [
    {
     "name": "stdout",
     "output_type": "stream",
     "text": [
      "train shape (10738, 11)\n",
      "test shape (4602, 11)\n"
     ]
    }
   ],
   "source": [
    "X_train1, X_test1, y_train1, y_test1=modeling(train,'fare_amount',drop_cols=['pickup_datetime'],split=0.3)"
   ]
  },
  {
   "cell_type": "code",
   "execution_count": 40,
   "metadata": {},
   "outputs": [],
   "source": [
    "# Train the model using the training sets\n",
    "model2 = sm.OLS(y_train1, X_train1).fit()"
   ]
  },
  {
   "cell_type": "code",
   "execution_count": 41,
   "metadata": {},
   "outputs": [
    {
     "data": {
      "text/html": [
       "<table class=\"simpletable\">\n",
       "<caption>OLS Regression Results</caption>\n",
       "<tr>\n",
       "  <th>Dep. Variable:</th>       <td>fare_amount</td>   <th>  R-squared:         </th> <td>   0.862</td> \n",
       "</tr>\n",
       "<tr>\n",
       "  <th>Model:</th>                   <td>OLS</td>       <th>  Adj. R-squared:    </th> <td>   0.862</td> \n",
       "</tr>\n",
       "<tr>\n",
       "  <th>Method:</th>             <td>Least Squares</td>  <th>  F-statistic:       </th> <td>   6077.</td> \n",
       "</tr>\n",
       "<tr>\n",
       "  <th>Date:</th>             <td>Mon, 02 Sep 2019</td> <th>  Prob (F-statistic):</th>  <td>  0.00</td>  \n",
       "</tr>\n",
       "<tr>\n",
       "  <th>Time:</th>                 <td>13:05:02</td>     <th>  Log-Likelihood:    </th> <td> -33384.</td> \n",
       "</tr>\n",
       "<tr>\n",
       "  <th>No. Observations:</th>      <td> 10738</td>      <th>  AIC:               </th> <td>6.679e+04</td>\n",
       "</tr>\n",
       "<tr>\n",
       "  <th>Df Residuals:</th>          <td> 10727</td>      <th>  BIC:               </th> <td>6.687e+04</td>\n",
       "</tr>\n",
       "<tr>\n",
       "  <th>Df Model:</th>              <td>    11</td>      <th>                     </th>     <td> </td>    \n",
       "</tr>\n",
       "<tr>\n",
       "  <th>Covariance Type:</th>      <td>nonrobust</td>    <th>                     </th>     <td> </td>    \n",
       "</tr>\n",
       "</table>\n",
       "<table class=\"simpletable\">\n",
       "<tr>\n",
       "          <td></td>             <th>coef</th>     <th>std err</th>      <th>t</th>      <th>P>|t|</th>  <th>[0.025</th>    <th>0.975]</th>  \n",
       "</tr>\n",
       "<tr>\n",
       "  <th>pickup_longitude</th>  <td>  -13.3092</td> <td>    1.315</td> <td>  -10.125</td> <td> 0.000</td> <td>  -15.886</td> <td>  -10.732</td>\n",
       "</tr>\n",
       "<tr>\n",
       "  <th>pickup_latitude</th>   <td>  -49.1592</td> <td>    1.832</td> <td>  -26.833</td> <td> 0.000</td> <td>  -52.750</td> <td>  -45.568</td>\n",
       "</tr>\n",
       "<tr>\n",
       "  <th>dropoff_longitude</th> <td>    2.1519</td> <td>    1.315</td> <td>    1.636</td> <td> 0.102</td> <td>   -0.426</td> <td>    4.730</td>\n",
       "</tr>\n",
       "<tr>\n",
       "  <th>dropoff_latitude</th>  <td>   -3.5173</td> <td>    1.739</td> <td>   -2.022</td> <td> 0.043</td> <td>   -6.927</td> <td>   -0.108</td>\n",
       "</tr>\n",
       "<tr>\n",
       "  <th>passenger_count</th>   <td>    0.0438</td> <td>    0.041</td> <td>    1.063</td> <td> 0.288</td> <td>   -0.037</td> <td>    0.125</td>\n",
       "</tr>\n",
       "<tr>\n",
       "  <th>day</th>               <td>   -0.0020</td> <td>    0.006</td> <td>   -0.336</td> <td> 0.737</td> <td>   -0.014</td> <td>    0.010</td>\n",
       "</tr>\n",
       "<tr>\n",
       "  <th>year</th>              <td>    0.6591</td> <td>    0.027</td> <td>   24.188</td> <td> 0.000</td> <td>    0.606</td> <td>    0.713</td>\n",
       "</tr>\n",
       "<tr>\n",
       "  <th>month</th>             <td>    0.1033</td> <td>    0.015</td> <td>    6.765</td> <td> 0.000</td> <td>    0.073</td> <td>    0.133</td>\n",
       "</tr>\n",
       "<tr>\n",
       "  <th>hour</th>              <td>    0.0042</td> <td>    0.008</td> <td>    0.516</td> <td> 0.606</td> <td>   -0.012</td> <td>    0.020</td>\n",
       "</tr>\n",
       "<tr>\n",
       "  <th>weekday</th>           <td>   -0.0970</td> <td>    0.027</td> <td>   -3.626</td> <td> 0.000</td> <td>   -0.149</td> <td>   -0.045</td>\n",
       "</tr>\n",
       "<tr>\n",
       "  <th>trip_distance</th>     <td>    1.7927</td> <td>    0.014</td> <td>  132.620</td> <td> 0.000</td> <td>    1.766</td> <td>    1.819</td>\n",
       "</tr>\n",
       "</table>\n",
       "<table class=\"simpletable\">\n",
       "<tr>\n",
       "  <th>Omnibus:</th>       <td>13667.474</td> <th>  Durbin-Watson:     </th>   <td>   1.992</td>  \n",
       "</tr>\n",
       "<tr>\n",
       "  <th>Prob(Omnibus):</th>  <td> 0.000</td>   <th>  Jarque-Bera (JB):  </th> <td>23448967.651</td>\n",
       "</tr>\n",
       "<tr>\n",
       "  <th>Skew:</th>           <td>-6.136</td>   <th>  Prob(JB):          </th>   <td>    0.00</td>  \n",
       "</tr>\n",
       "<tr>\n",
       "  <th>Kurtosis:</th>       <td>231.602</td>  <th>  Cond. No.          </th>   <td>8.67e+04</td>  \n",
       "</tr>\n",
       "</table><br/><br/>Warnings:<br/>[1] Standard Errors assume that the covariance matrix of the errors is correctly specified.<br/>[2] The condition number is large, 8.67e+04. This might indicate that there are<br/>strong multicollinearity or other numerical problems."
      ],
      "text/plain": [
       "<class 'statsmodels.iolib.summary.Summary'>\n",
       "\"\"\"\n",
       "                            OLS Regression Results                            \n",
       "==============================================================================\n",
       "Dep. Variable:            fare_amount   R-squared:                       0.862\n",
       "Model:                            OLS   Adj. R-squared:                  0.862\n",
       "Method:                 Least Squares   F-statistic:                     6077.\n",
       "Date:                Mon, 02 Sep 2019   Prob (F-statistic):               0.00\n",
       "Time:                        13:05:02   Log-Likelihood:                -33384.\n",
       "No. Observations:               10738   AIC:                         6.679e+04\n",
       "Df Residuals:                   10727   BIC:                         6.687e+04\n",
       "Df Model:                          11                                         \n",
       "Covariance Type:            nonrobust                                         \n",
       "=====================================================================================\n",
       "                        coef    std err          t      P>|t|      [0.025      0.975]\n",
       "-------------------------------------------------------------------------------------\n",
       "pickup_longitude    -13.3092      1.315    -10.125      0.000     -15.886     -10.732\n",
       "pickup_latitude     -49.1592      1.832    -26.833      0.000     -52.750     -45.568\n",
       "dropoff_longitude     2.1519      1.315      1.636      0.102      -0.426       4.730\n",
       "dropoff_latitude     -3.5173      1.739     -2.022      0.043      -6.927      -0.108\n",
       "passenger_count       0.0438      0.041      1.063      0.288      -0.037       0.125\n",
       "day                  -0.0020      0.006     -0.336      0.737      -0.014       0.010\n",
       "year                  0.6591      0.027     24.188      0.000       0.606       0.713\n",
       "month                 0.1033      0.015      6.765      0.000       0.073       0.133\n",
       "hour                  0.0042      0.008      0.516      0.606      -0.012       0.020\n",
       "weekday              -0.0970      0.027     -3.626      0.000      -0.149      -0.045\n",
       "trip_distance         1.7927      0.014    132.620      0.000       1.766       1.819\n",
       "==============================================================================\n",
       "Omnibus:                    13667.474   Durbin-Watson:                   1.992\n",
       "Prob(Omnibus):                  0.000   Jarque-Bera (JB):         23448967.651\n",
       "Skew:                          -6.136   Prob(JB):                         0.00\n",
       "Kurtosis:                     231.602   Cond. No.                     8.67e+04\n",
       "==============================================================================\n",
       "\n",
       "Warnings:\n",
       "[1] Standard Errors assume that the covariance matrix of the errors is correctly specified.\n",
       "[2] The condition number is large, 8.67e+04. This might indicate that there are\n",
       "strong multicollinearity or other numerical problems.\n",
       "\"\"\""
      ]
     },
     "execution_count": 41,
     "metadata": {},
     "output_type": "execute_result"
    }
   ],
   "source": [
    "model2.summary()"
   ]
  },
  {
   "cell_type": "code",
   "execution_count": 42,
   "metadata": {},
   "outputs": [],
   "source": [
    "y_pred2=model2.predict(X_test1)"
   ]
  },
  {
   "cell_type": "code",
   "execution_count": 43,
   "metadata": {},
   "outputs": [
    {
     "name": "stdout",
     "output_type": "stream",
     "text": [
      "RMSE for Linear Regression is  5.382596109443943\n"
     ]
    }
   ],
   "source": [
    "lm_rmse=np.sqrt(mean_squared_error(y_pred2, y_test1))\n",
    "print(\"RMSE for Linear Regression is \",lm_rmse)"
   ]
  },
  {
   "cell_type": "code",
   "execution_count": null,
   "metadata": {},
   "outputs": [],
   "source": []
  },
  {
   "cell_type": "markdown",
   "metadata": {},
   "source": [
    "#### DecisionTree"
   ]
  },
  {
   "cell_type": "code",
   "execution_count": 44,
   "metadata": {},
   "outputs": [],
   "source": [
    "#Decision tree for regression\n",
    "fit_DT = DecisionTreeRegressor(max_depth=6,random_state=42).fit(X_train, y_train)"
   ]
  },
  {
   "cell_type": "code",
   "execution_count": 45,
   "metadata": {},
   "outputs": [],
   "source": [
    "predictions_DT = fit_DT.predict(X_test)"
   ]
  },
  {
   "cell_type": "markdown",
   "metadata": {},
   "source": [
    "#### Lets use RMSE to test accuracy of the Model"
   ]
  },
  {
   "cell_type": "code",
   "execution_count": 46,
   "metadata": {},
   "outputs": [
    {
     "name": "stdout",
     "output_type": "stream",
     "text": [
      "RMSE =  3.697995334587334\n"
     ]
    }
   ],
   "source": [
    "dt_rmse=np.sqrt(mean_squared_error(predictions_DT,y_test))\n",
    "print(\"RMSE = \",dt_rmse)"
   ]
  },
  {
   "cell_type": "code",
   "execution_count": null,
   "metadata": {},
   "outputs": [],
   "source": []
  },
  {
   "cell_type": "markdown",
   "metadata": {},
   "source": [
    "#### Random Forest"
   ]
  },
  {
   "cell_type": "code",
   "execution_count": 47,
   "metadata": {},
   "outputs": [],
   "source": [
    "fit_RF = RandomForestRegressor(n_estimators = 50,random_state=42).fit(X_train,y_train)"
   ]
  },
  {
   "cell_type": "code",
   "execution_count": 48,
   "metadata": {},
   "outputs": [],
   "source": [
    "prediction_RF=fit_RF.predict(X_test)"
   ]
  },
  {
   "cell_type": "markdown",
   "metadata": {},
   "source": [
    "#### Lets use RMSE to test accuracy of the Model"
   ]
  },
  {
   "cell_type": "code",
   "execution_count": 49,
   "metadata": {},
   "outputs": [
    {
     "name": "stdout",
     "output_type": "stream",
     "text": [
      "RMSE =  3.623520364101185\n"
     ]
    }
   ],
   "source": [
    "rf_rmse=np.sqrt(mean_squared_error(prediction_RF,y_test))\n",
    "print(\"RMSE = \",rf_rmse)"
   ]
  },
  {
   "cell_type": "code",
   "execution_count": null,
   "metadata": {},
   "outputs": [],
   "source": []
  },
  {
   "cell_type": "markdown",
   "metadata": {},
   "source": [
    "### As we got best Accuracy with RandomForest Model we will use this Model to predict Fare"
   ]
  },
  {
   "cell_type": "code",
   "execution_count": 75,
   "metadata": {},
   "outputs": [
    {
     "data": {
      "text/html": [
       "<div>\n",
       "<style scoped>\n",
       "    .dataframe tbody tr th:only-of-type {\n",
       "        vertical-align: middle;\n",
       "    }\n",
       "\n",
       "    .dataframe tbody tr th {\n",
       "        vertical-align: top;\n",
       "    }\n",
       "\n",
       "    .dataframe thead th {\n",
       "        text-align: right;\n",
       "    }\n",
       "</style>\n",
       "<table border=\"1\" class=\"dataframe\">\n",
       "  <thead>\n",
       "    <tr style=\"text-align: right;\">\n",
       "      <th></th>\n",
       "      <th>pickup_longitude</th>\n",
       "      <th>pickup_latitude</th>\n",
       "      <th>dropoff_longitude</th>\n",
       "      <th>dropoff_latitude</th>\n",
       "      <th>passenger_count</th>\n",
       "      <th>day</th>\n",
       "      <th>year</th>\n",
       "      <th>month</th>\n",
       "      <th>hour</th>\n",
       "      <th>weekday</th>\n",
       "      <th>trip_distance</th>\n",
       "    </tr>\n",
       "  </thead>\n",
       "  <tbody>\n",
       "    <tr>\n",
       "      <th>count</th>\n",
       "      <td>9914.000000</td>\n",
       "      <td>9914.000000</td>\n",
       "      <td>9914.000000</td>\n",
       "      <td>9914.000000</td>\n",
       "      <td>9914.000000</td>\n",
       "      <td>9914.000000</td>\n",
       "      <td>9914.000000</td>\n",
       "      <td>9914.000000</td>\n",
       "      <td>9914.000000</td>\n",
       "      <td>9914.000000</td>\n",
       "      <td>9914.000000</td>\n",
       "    </tr>\n",
       "    <tr>\n",
       "      <th>mean</th>\n",
       "      <td>-73.974722</td>\n",
       "      <td>40.751041</td>\n",
       "      <td>-73.973657</td>\n",
       "      <td>40.751743</td>\n",
       "      <td>1.671273</td>\n",
       "      <td>16.194170</td>\n",
       "      <td>2011.815816</td>\n",
       "      <td>6.857979</td>\n",
       "      <td>13.467420</td>\n",
       "      <td>2.852834</td>\n",
       "      <td>3.435371</td>\n",
       "    </tr>\n",
       "    <tr>\n",
       "      <th>std</th>\n",
       "      <td>0.042774</td>\n",
       "      <td>0.033541</td>\n",
       "      <td>0.039072</td>\n",
       "      <td>0.035435</td>\n",
       "      <td>1.278747</td>\n",
       "      <td>8.838482</td>\n",
       "      <td>1.803347</td>\n",
       "      <td>3.353272</td>\n",
       "      <td>6.868584</td>\n",
       "      <td>1.994451</td>\n",
       "      <td>3.972374</td>\n",
       "    </tr>\n",
       "    <tr>\n",
       "      <th>min</th>\n",
       "      <td>-74.252193</td>\n",
       "      <td>40.573143</td>\n",
       "      <td>-74.263242</td>\n",
       "      <td>40.568973</td>\n",
       "      <td>1.000000</td>\n",
       "      <td>1.000000</td>\n",
       "      <td>2009.000000</td>\n",
       "      <td>1.000000</td>\n",
       "      <td>0.000000</td>\n",
       "      <td>0.000000</td>\n",
       "      <td>0.000000</td>\n",
       "    </tr>\n",
       "    <tr>\n",
       "      <th>25%</th>\n",
       "      <td>-73.992501</td>\n",
       "      <td>40.736125</td>\n",
       "      <td>-73.991247</td>\n",
       "      <td>40.735254</td>\n",
       "      <td>1.000000</td>\n",
       "      <td>9.000000</td>\n",
       "      <td>2010.000000</td>\n",
       "      <td>4.000000</td>\n",
       "      <td>8.000000</td>\n",
       "      <td>1.000000</td>\n",
       "      <td>1.298277</td>\n",
       "    </tr>\n",
       "    <tr>\n",
       "      <th>50%</th>\n",
       "      <td>-73.982326</td>\n",
       "      <td>40.753051</td>\n",
       "      <td>-73.980015</td>\n",
       "      <td>40.754065</td>\n",
       "      <td>1.000000</td>\n",
       "      <td>16.000000</td>\n",
       "      <td>2012.000000</td>\n",
       "      <td>7.000000</td>\n",
       "      <td>15.000000</td>\n",
       "      <td>3.000000</td>\n",
       "      <td>2.217412</td>\n",
       "    </tr>\n",
       "    <tr>\n",
       "      <th>75%</th>\n",
       "      <td>-73.968013</td>\n",
       "      <td>40.767113</td>\n",
       "      <td>-73.964059</td>\n",
       "      <td>40.768757</td>\n",
       "      <td>2.000000</td>\n",
       "      <td>25.000000</td>\n",
       "      <td>2014.000000</td>\n",
       "      <td>10.000000</td>\n",
       "      <td>19.000000</td>\n",
       "      <td>5.000000</td>\n",
       "      <td>4.045302</td>\n",
       "    </tr>\n",
       "    <tr>\n",
       "      <th>max</th>\n",
       "      <td>-72.986532</td>\n",
       "      <td>41.709555</td>\n",
       "      <td>-72.990963</td>\n",
       "      <td>41.696683</td>\n",
       "      <td>6.000000</td>\n",
       "      <td>31.000000</td>\n",
       "      <td>2015.000000</td>\n",
       "      <td>12.000000</td>\n",
       "      <td>23.000000</td>\n",
       "      <td>6.000000</td>\n",
       "      <td>99.996040</td>\n",
       "    </tr>\n",
       "  </tbody>\n",
       "</table>\n",
       "</div>"
      ],
      "text/plain": [
       "       pickup_longitude  pickup_latitude  dropoff_longitude  dropoff_latitude  \\\n",
       "count       9914.000000      9914.000000        9914.000000       9914.000000   \n",
       "mean         -73.974722        40.751041         -73.973657         40.751743   \n",
       "std            0.042774         0.033541           0.039072          0.035435   \n",
       "min          -74.252193        40.573143         -74.263242         40.568973   \n",
       "25%          -73.992501        40.736125         -73.991247         40.735254   \n",
       "50%          -73.982326        40.753051         -73.980015         40.754065   \n",
       "75%          -73.968013        40.767113         -73.964059         40.768757   \n",
       "max          -72.986532        41.709555         -72.990963         41.696683   \n",
       "\n",
       "       passenger_count          day         year        month         hour  \\\n",
       "count      9914.000000  9914.000000  9914.000000  9914.000000  9914.000000   \n",
       "mean          1.671273    16.194170  2011.815816     6.857979    13.467420   \n",
       "std           1.278747     8.838482     1.803347     3.353272     6.868584   \n",
       "min           1.000000     1.000000  2009.000000     1.000000     0.000000   \n",
       "25%           1.000000     9.000000  2010.000000     4.000000     8.000000   \n",
       "50%           1.000000    16.000000  2012.000000     7.000000    15.000000   \n",
       "75%           2.000000    25.000000  2014.000000    10.000000    19.000000   \n",
       "max           6.000000    31.000000  2015.000000    12.000000    23.000000   \n",
       "\n",
       "           weekday  trip_distance  \n",
       "count  9914.000000    9914.000000  \n",
       "mean      2.852834       3.435371  \n",
       "std       1.994451       3.972374  \n",
       "min       0.000000       0.000000  \n",
       "25%       1.000000       1.298277  \n",
       "50%       3.000000       2.217412  \n",
       "75%       5.000000       4.045302  \n",
       "max       6.000000      99.996040  "
      ]
     },
     "execution_count": 75,
     "metadata": {},
     "output_type": "execute_result"
    }
   ],
   "source": [
    "test.describe()"
   ]
  },
  {
   "cell_type": "code",
   "execution_count": 76,
   "metadata": {},
   "outputs": [
    {
     "data": {
      "text/html": [
       "<div>\n",
       "<style scoped>\n",
       "    .dataframe tbody tr th:only-of-type {\n",
       "        vertical-align: middle;\n",
       "    }\n",
       "\n",
       "    .dataframe tbody tr th {\n",
       "        vertical-align: top;\n",
       "    }\n",
       "\n",
       "    .dataframe thead th {\n",
       "        text-align: right;\n",
       "    }\n",
       "</style>\n",
       "<table border=\"1\" class=\"dataframe\">\n",
       "  <thead>\n",
       "    <tr style=\"text-align: right;\">\n",
       "      <th></th>\n",
       "      <th>pickup_datetime</th>\n",
       "      <th>pickup_longitude</th>\n",
       "      <th>pickup_latitude</th>\n",
       "      <th>dropoff_longitude</th>\n",
       "      <th>dropoff_latitude</th>\n",
       "      <th>passenger_count</th>\n",
       "      <th>day</th>\n",
       "      <th>year</th>\n",
       "      <th>month</th>\n",
       "      <th>hour</th>\n",
       "      <th>weekday</th>\n",
       "      <th>trip_distance</th>\n",
       "    </tr>\n",
       "  </thead>\n",
       "  <tbody>\n",
       "    <tr>\n",
       "      <th>0</th>\n",
       "      <td>2015-01-27 13:08:24</td>\n",
       "      <td>-73.973320</td>\n",
       "      <td>40.763805</td>\n",
       "      <td>-73.981430</td>\n",
       "      <td>40.743835</td>\n",
       "      <td>1</td>\n",
       "      <td>27</td>\n",
       "      <td>2015</td>\n",
       "      <td>1</td>\n",
       "      <td>13</td>\n",
       "      <td>1</td>\n",
       "      <td>2.323259</td>\n",
       "    </tr>\n",
       "    <tr>\n",
       "      <th>1</th>\n",
       "      <td>2015-01-27 13:08:24</td>\n",
       "      <td>-73.986862</td>\n",
       "      <td>40.719383</td>\n",
       "      <td>-73.998886</td>\n",
       "      <td>40.739201</td>\n",
       "      <td>1</td>\n",
       "      <td>27</td>\n",
       "      <td>2015</td>\n",
       "      <td>1</td>\n",
       "      <td>13</td>\n",
       "      <td>1</td>\n",
       "      <td>2.425353</td>\n",
       "    </tr>\n",
       "    <tr>\n",
       "      <th>2</th>\n",
       "      <td>2011-10-08 11:53:44</td>\n",
       "      <td>-73.982524</td>\n",
       "      <td>40.751260</td>\n",
       "      <td>-73.979654</td>\n",
       "      <td>40.746139</td>\n",
       "      <td>1</td>\n",
       "      <td>8</td>\n",
       "      <td>2011</td>\n",
       "      <td>10</td>\n",
       "      <td>11</td>\n",
       "      <td>5</td>\n",
       "      <td>0.618628</td>\n",
       "    </tr>\n",
       "    <tr>\n",
       "      <th>3</th>\n",
       "      <td>2012-12-01 21:12:12</td>\n",
       "      <td>-73.981160</td>\n",
       "      <td>40.767807</td>\n",
       "      <td>-73.990448</td>\n",
       "      <td>40.751635</td>\n",
       "      <td>1</td>\n",
       "      <td>1</td>\n",
       "      <td>2012</td>\n",
       "      <td>12</td>\n",
       "      <td>21</td>\n",
       "      <td>5</td>\n",
       "      <td>1.961033</td>\n",
       "    </tr>\n",
       "    <tr>\n",
       "      <th>4</th>\n",
       "      <td>2012-12-01 21:12:12</td>\n",
       "      <td>-73.966046</td>\n",
       "      <td>40.789775</td>\n",
       "      <td>-73.988565</td>\n",
       "      <td>40.744427</td>\n",
       "      <td>1</td>\n",
       "      <td>1</td>\n",
       "      <td>2012</td>\n",
       "      <td>12</td>\n",
       "      <td>21</td>\n",
       "      <td>5</td>\n",
       "      <td>5.387301</td>\n",
       "    </tr>\n",
       "  </tbody>\n",
       "</table>\n",
       "</div>"
      ],
      "text/plain": [
       "      pickup_datetime  pickup_longitude  pickup_latitude  dropoff_longitude  \\\n",
       "0 2015-01-27 13:08:24        -73.973320        40.763805         -73.981430   \n",
       "1 2015-01-27 13:08:24        -73.986862        40.719383         -73.998886   \n",
       "2 2011-10-08 11:53:44        -73.982524        40.751260         -73.979654   \n",
       "3 2012-12-01 21:12:12        -73.981160        40.767807         -73.990448   \n",
       "4 2012-12-01 21:12:12        -73.966046        40.789775         -73.988565   \n",
       "\n",
       "   dropoff_latitude  passenger_count  day  year  month  hour  weekday  \\\n",
       "0         40.743835                1   27  2015      1    13        1   \n",
       "1         40.739201                1   27  2015      1    13        1   \n",
       "2         40.746139                1    8  2011     10    11        5   \n",
       "3         40.751635                1    1  2012     12    21        5   \n",
       "4         40.744427                1    1  2012     12    21        5   \n",
       "\n",
       "   trip_distance  \n",
       "0       2.323259  \n",
       "1       2.425353  \n",
       "2       0.618628  \n",
       "3       1.961033  \n",
       "4       5.387301  "
      ]
     },
     "execution_count": 76,
     "metadata": {},
     "output_type": "execute_result"
    }
   ],
   "source": [
    "test.head()"
   ]
  },
  {
   "cell_type": "code",
   "execution_count": 77,
   "metadata": {},
   "outputs": [],
   "source": [
    "test=test.drop(['pickup_datetime'], axis=1)"
   ]
  },
  {
   "cell_type": "code",
   "execution_count": 78,
   "metadata": {},
   "outputs": [
    {
     "data": {
      "text/plain": [
       "(9914, 11)"
      ]
     },
     "execution_count": 78,
     "metadata": {},
     "output_type": "execute_result"
    }
   ],
   "source": [
    "test.shape"
   ]
  },
  {
   "cell_type": "code",
   "execution_count": 79,
   "metadata": {},
   "outputs": [],
   "source": [
    "predicted_fare=fit_RF.predict(test)"
   ]
  },
  {
   "cell_type": "code",
   "execution_count": 80,
   "metadata": {},
   "outputs": [],
   "source": [
    "test['predicted_fare']=predicted_fare"
   ]
  },
  {
   "cell_type": "code",
   "execution_count": 81,
   "metadata": {},
   "outputs": [
    {
     "data": {
      "text/html": [
       "<div>\n",
       "<style scoped>\n",
       "    .dataframe tbody tr th:only-of-type {\n",
       "        vertical-align: middle;\n",
       "    }\n",
       "\n",
       "    .dataframe tbody tr th {\n",
       "        vertical-align: top;\n",
       "    }\n",
       "\n",
       "    .dataframe thead th {\n",
       "        text-align: right;\n",
       "    }\n",
       "</style>\n",
       "<table border=\"1\" class=\"dataframe\">\n",
       "  <thead>\n",
       "    <tr style=\"text-align: right;\">\n",
       "      <th></th>\n",
       "      <th>pickup_longitude</th>\n",
       "      <th>pickup_latitude</th>\n",
       "      <th>dropoff_longitude</th>\n",
       "      <th>dropoff_latitude</th>\n",
       "      <th>passenger_count</th>\n",
       "      <th>day</th>\n",
       "      <th>year</th>\n",
       "      <th>month</th>\n",
       "      <th>hour</th>\n",
       "      <th>weekday</th>\n",
       "      <th>trip_distance</th>\n",
       "      <th>predicted_fare</th>\n",
       "    </tr>\n",
       "  </thead>\n",
       "  <tbody>\n",
       "    <tr>\n",
       "      <th>0</th>\n",
       "      <td>-73.973320</td>\n",
       "      <td>40.763805</td>\n",
       "      <td>-73.981430</td>\n",
       "      <td>40.743835</td>\n",
       "      <td>1</td>\n",
       "      <td>27</td>\n",
       "      <td>2015</td>\n",
       "      <td>1</td>\n",
       "      <td>13</td>\n",
       "      <td>1</td>\n",
       "      <td>2.323259</td>\n",
       "      <td>10.236817</td>\n",
       "    </tr>\n",
       "    <tr>\n",
       "      <th>1</th>\n",
       "      <td>-73.986862</td>\n",
       "      <td>40.719383</td>\n",
       "      <td>-73.998886</td>\n",
       "      <td>40.739201</td>\n",
       "      <td>1</td>\n",
       "      <td>27</td>\n",
       "      <td>2015</td>\n",
       "      <td>1</td>\n",
       "      <td>13</td>\n",
       "      <td>1</td>\n",
       "      <td>2.425353</td>\n",
       "      <td>10.468000</td>\n",
       "    </tr>\n",
       "    <tr>\n",
       "      <th>2</th>\n",
       "      <td>-73.982524</td>\n",
       "      <td>40.751260</td>\n",
       "      <td>-73.979654</td>\n",
       "      <td>40.746139</td>\n",
       "      <td>1</td>\n",
       "      <td>8</td>\n",
       "      <td>2011</td>\n",
       "      <td>10</td>\n",
       "      <td>11</td>\n",
       "      <td>5</td>\n",
       "      <td>0.618628</td>\n",
       "      <td>4.020000</td>\n",
       "    </tr>\n",
       "    <tr>\n",
       "      <th>3</th>\n",
       "      <td>-73.981160</td>\n",
       "      <td>40.767807</td>\n",
       "      <td>-73.990448</td>\n",
       "      <td>40.751635</td>\n",
       "      <td>1</td>\n",
       "      <td>1</td>\n",
       "      <td>2012</td>\n",
       "      <td>12</td>\n",
       "      <td>21</td>\n",
       "      <td>5</td>\n",
       "      <td>1.961033</td>\n",
       "      <td>9.924000</td>\n",
       "    </tr>\n",
       "    <tr>\n",
       "      <th>4</th>\n",
       "      <td>-73.966046</td>\n",
       "      <td>40.789775</td>\n",
       "      <td>-73.988565</td>\n",
       "      <td>40.744427</td>\n",
       "      <td>1</td>\n",
       "      <td>1</td>\n",
       "      <td>2012</td>\n",
       "      <td>12</td>\n",
       "      <td>21</td>\n",
       "      <td>5</td>\n",
       "      <td>5.387301</td>\n",
       "      <td>16.208000</td>\n",
       "    </tr>\n",
       "    <tr>\n",
       "      <th>5</th>\n",
       "      <td>-73.960983</td>\n",
       "      <td>40.765547</td>\n",
       "      <td>-73.979177</td>\n",
       "      <td>40.740053</td>\n",
       "      <td>1</td>\n",
       "      <td>1</td>\n",
       "      <td>2012</td>\n",
       "      <td>12</td>\n",
       "      <td>21</td>\n",
       "      <td>5</td>\n",
       "      <td>3.222549</td>\n",
       "      <td>9.132000</td>\n",
       "    </tr>\n",
       "    <tr>\n",
       "      <th>6</th>\n",
       "      <td>-73.949013</td>\n",
       "      <td>40.773204</td>\n",
       "      <td>-73.959622</td>\n",
       "      <td>40.770893</td>\n",
       "      <td>1</td>\n",
       "      <td>6</td>\n",
       "      <td>2011</td>\n",
       "      <td>10</td>\n",
       "      <td>12</td>\n",
       "      <td>3</td>\n",
       "      <td>0.929601</td>\n",
       "      <td>5.814000</td>\n",
       "    </tr>\n",
       "    <tr>\n",
       "      <th>7</th>\n",
       "      <td>-73.777282</td>\n",
       "      <td>40.646636</td>\n",
       "      <td>-73.985083</td>\n",
       "      <td>40.759368</td>\n",
       "      <td>1</td>\n",
       "      <td>6</td>\n",
       "      <td>2011</td>\n",
       "      <td>10</td>\n",
       "      <td>12</td>\n",
       "      <td>3</td>\n",
       "      <td>21.540102</td>\n",
       "      <td>49.577800</td>\n",
       "    </tr>\n",
       "    <tr>\n",
       "      <th>8</th>\n",
       "      <td>-74.014099</td>\n",
       "      <td>40.709638</td>\n",
       "      <td>-73.995106</td>\n",
       "      <td>40.741365</td>\n",
       "      <td>1</td>\n",
       "      <td>6</td>\n",
       "      <td>2011</td>\n",
       "      <td>10</td>\n",
       "      <td>12</td>\n",
       "      <td>3</td>\n",
       "      <td>3.873962</td>\n",
       "      <td>11.596000</td>\n",
       "    </tr>\n",
       "    <tr>\n",
       "      <th>9</th>\n",
       "      <td>-73.969582</td>\n",
       "      <td>40.765519</td>\n",
       "      <td>-73.980686</td>\n",
       "      <td>40.770725</td>\n",
       "      <td>1</td>\n",
       "      <td>18</td>\n",
       "      <td>2014</td>\n",
       "      <td>2</td>\n",
       "      <td>15</td>\n",
       "      <td>1</td>\n",
       "      <td>1.099794</td>\n",
       "      <td>7.250000</td>\n",
       "    </tr>\n",
       "  </tbody>\n",
       "</table>\n",
       "</div>"
      ],
      "text/plain": [
       "   pickup_longitude  pickup_latitude  dropoff_longitude  dropoff_latitude  \\\n",
       "0        -73.973320        40.763805         -73.981430         40.743835   \n",
       "1        -73.986862        40.719383         -73.998886         40.739201   \n",
       "2        -73.982524        40.751260         -73.979654         40.746139   \n",
       "3        -73.981160        40.767807         -73.990448         40.751635   \n",
       "4        -73.966046        40.789775         -73.988565         40.744427   \n",
       "5        -73.960983        40.765547         -73.979177         40.740053   \n",
       "6        -73.949013        40.773204         -73.959622         40.770893   \n",
       "7        -73.777282        40.646636         -73.985083         40.759368   \n",
       "8        -74.014099        40.709638         -73.995106         40.741365   \n",
       "9        -73.969582        40.765519         -73.980686         40.770725   \n",
       "\n",
       "   passenger_count  day  year  month  hour  weekday  trip_distance  \\\n",
       "0                1   27  2015      1    13        1       2.323259   \n",
       "1                1   27  2015      1    13        1       2.425353   \n",
       "2                1    8  2011     10    11        5       0.618628   \n",
       "3                1    1  2012     12    21        5       1.961033   \n",
       "4                1    1  2012     12    21        5       5.387301   \n",
       "5                1    1  2012     12    21        5       3.222549   \n",
       "6                1    6  2011     10    12        3       0.929601   \n",
       "7                1    6  2011     10    12        3      21.540102   \n",
       "8                1    6  2011     10    12        3       3.873962   \n",
       "9                1   18  2014      2    15        1       1.099794   \n",
       "\n",
       "   predicted_fare  \n",
       "0       10.236817  \n",
       "1       10.468000  \n",
       "2        4.020000  \n",
       "3        9.924000  \n",
       "4       16.208000  \n",
       "5        9.132000  \n",
       "6        5.814000  \n",
       "7       49.577800  \n",
       "8       11.596000  \n",
       "9        7.250000  "
      ]
     },
     "execution_count": 81,
     "metadata": {},
     "output_type": "execute_result"
    }
   ],
   "source": [
    "test.head(10)"
   ]
  },
  {
   "cell_type": "code",
   "execution_count": 82,
   "metadata": {},
   "outputs": [],
   "source": [
    "test.to_csv(\"test_predicted.csv\",index=False)"
   ]
  },
  {
   "cell_type": "code",
   "execution_count": null,
   "metadata": {},
   "outputs": [],
   "source": []
  }
 ],
 "metadata": {
  "kernelspec": {
   "display_name": "Python 3",
   "language": "python",
   "name": "python3"
  },
  "language_info": {
   "codemirror_mode": {
    "name": "ipython",
    "version": 3
   },
   "file_extension": ".py",
   "mimetype": "text/x-python",
   "name": "python",
   "nbconvert_exporter": "python",
   "pygments_lexer": "ipython3",
   "version": "3.7.3"
  }
 },
 "nbformat": 4,
 "nbformat_minor": 2
}
